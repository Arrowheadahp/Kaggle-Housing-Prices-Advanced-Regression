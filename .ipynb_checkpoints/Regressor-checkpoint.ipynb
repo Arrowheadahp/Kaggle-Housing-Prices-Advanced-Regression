{
 "cells": [
  {
   "cell_type": "markdown",
   "metadata": {},
   "source": [
    "### Import Libraries"
   ]
  },
  {
   "cell_type": "code",
   "execution_count": 1,
   "metadata": {},
   "outputs": [],
   "source": [
    "import pandas as pd\n",
    "import numpy as np\n",
    "import sklearn\n",
    "\n",
    "import warnings\n",
    "warnings.filterwarnings('ignore')\n",
    "\n",
    "import matplotlib.pyplot as plt\n",
    "import seaborn as sns\n",
    "from matplotlib import style\n",
    "style.use('ggplot')"
   ]
  },
  {
   "cell_type": "code",
   "execution_count": 2,
   "metadata": {},
   "outputs": [],
   "source": [
    "from sklearn.model_selection import KFold, GridSearchCV, cross_validate, ParameterGrid\n",
    "from sklearn.feature_selection import RFECV\n",
    "from sklearn.base import clone\n",
    "from sklearn.preprocessing import StandardScaler, LabelEncoder\n",
    "\n",
    "from sklearn.neural_network import MLPRegressor\n",
    "from sklearn.neighbors import KNeighborsRegressor\n",
    "from sklearn.svm import SVR, LinearSVR, NuSVR\n",
    "from sklearn.gaussian_process import GaussianProcessRegressor\n",
    "from sklearn.tree import DecisionTreeRegressor, plot_tree\n",
    "from sklearn.ensemble import RandomForestRegressor, AdaBoostRegressor, GradientBoostingRegressor\n",
    "from sklearn.linear_model import SGDRegressor, LogisticRegressionCV, RidgeCV\n",
    "\n",
    "from sklearn import linear_model, ensemble\n",
    "\n",
    "from sklearn.ensemble import StackingRegressor, VotingRegressor"
   ]
  },
  {
   "cell_type": "markdown",
   "metadata": {},
   "source": [
    "### Import the Train data set and Test data set "
   ]
  },
  {
   "cell_type": "code",
   "execution_count": 3,
   "metadata": {},
   "outputs": [],
   "source": [
    "loc_train = 'data\\\\train.csv'\n",
    "loc_test = 'data\\\\test.csv'\n",
    "target = 'Survived'\n",
    "\n",
    "evaluation = 'neg_mean_squared_error'\n",
    "\n",
    "raw_train_data = pd.read_csv(loc_train)\n",
    "y = raw_train_data[target]\n",
    "raw_train_data = raw_train_data.drop(target, axis=1)\n",
    "raw_test_data = pd.read_csv(loc_test)\n",
    "raw_train_data.head(5)"
   ]
  },
  {
   "cell_type": "code",
   "execution_count": 4,
   "metadata": {},
   "outputs": [
    {
     "data": {
      "text/html": [
       "<div>\n",
       "<style scoped>\n",
       "    .dataframe tbody tr th:only-of-type {\n",
       "        vertical-align: middle;\n",
       "    }\n",
       "\n",
       "    .dataframe tbody tr th {\n",
       "        vertical-align: top;\n",
       "    }\n",
       "\n",
       "    .dataframe thead th {\n",
       "        text-align: right;\n",
       "    }\n",
       "</style>\n",
       "<table border=\"1\" class=\"dataframe\">\n",
       "  <thead>\n",
       "    <tr style=\"text-align: right;\">\n",
       "      <th></th>\n",
       "      <th>0</th>\n",
       "      <th>1</th>\n",
       "      <th>2</th>\n",
       "      <th>3</th>\n",
       "      <th>4</th>\n",
       "      <th>5</th>\n",
       "      <th>6</th>\n",
       "      <th>7</th>\n",
       "      <th>8</th>\n",
       "      <th>9</th>\n",
       "      <th>10</th>\n",
       "      <th>11</th>\n",
       "      <th>12</th>\n",
       "    </tr>\n",
       "  </thead>\n",
       "  <tbody>\n",
       "    <tr>\n",
       "      <th>316</th>\n",
       "      <td>0.31827</td>\n",
       "      <td>0.0</td>\n",
       "      <td>9.90</td>\n",
       "      <td>0.0</td>\n",
       "      <td>0.544</td>\n",
       "      <td>5.914</td>\n",
       "      <td>83.2</td>\n",
       "      <td>3.9986</td>\n",
       "      <td>4.0</td>\n",
       "      <td>304.0</td>\n",
       "      <td>18.4</td>\n",
       "      <td>390.70</td>\n",
       "      <td>18.33</td>\n",
       "    </tr>\n",
       "    <tr>\n",
       "      <th>124</th>\n",
       "      <td>0.09849</td>\n",
       "      <td>0.0</td>\n",
       "      <td>25.65</td>\n",
       "      <td>0.0</td>\n",
       "      <td>0.581</td>\n",
       "      <td>5.879</td>\n",
       "      <td>95.8</td>\n",
       "      <td>2.0063</td>\n",
       "      <td>2.0</td>\n",
       "      <td>188.0</td>\n",
       "      <td>19.1</td>\n",
       "      <td>379.38</td>\n",
       "      <td>17.58</td>\n",
       "    </tr>\n",
       "    <tr>\n",
       "      <th>139</th>\n",
       "      <td>0.54452</td>\n",
       "      <td>0.0</td>\n",
       "      <td>21.89</td>\n",
       "      <td>0.0</td>\n",
       "      <td>0.624</td>\n",
       "      <td>6.151</td>\n",
       "      <td>97.9</td>\n",
       "      <td>1.6687</td>\n",
       "      <td>4.0</td>\n",
       "      <td>437.0</td>\n",
       "      <td>21.2</td>\n",
       "      <td>396.90</td>\n",
       "      <td>18.46</td>\n",
       "    </tr>\n",
       "    <tr>\n",
       "      <th>422</th>\n",
       "      <td>12.04820</td>\n",
       "      <td>0.0</td>\n",
       "      <td>18.10</td>\n",
       "      <td>0.0</td>\n",
       "      <td>0.614</td>\n",
       "      <td>5.648</td>\n",
       "      <td>87.6</td>\n",
       "      <td>1.9512</td>\n",
       "      <td>24.0</td>\n",
       "      <td>666.0</td>\n",
       "      <td>20.2</td>\n",
       "      <td>291.55</td>\n",
       "      <td>14.10</td>\n",
       "    </tr>\n",
       "    <tr>\n",
       "      <th>384</th>\n",
       "      <td>20.08490</td>\n",
       "      <td>0.0</td>\n",
       "      <td>18.10</td>\n",
       "      <td>0.0</td>\n",
       "      <td>0.700</td>\n",
       "      <td>4.368</td>\n",
       "      <td>91.2</td>\n",
       "      <td>1.4395</td>\n",
       "      <td>24.0</td>\n",
       "      <td>666.0</td>\n",
       "      <td>20.2</td>\n",
       "      <td>285.83</td>\n",
       "      <td>30.63</td>\n",
       "    </tr>\n",
       "  </tbody>\n",
       "</table>\n",
       "</div>"
      ],
      "text/plain": [
       "            0    1      2    3      4      5     6       7     8      9    10  \\\n",
       "316   0.31827  0.0   9.90  0.0  0.544  5.914  83.2  3.9986   4.0  304.0  18.4   \n",
       "124   0.09849  0.0  25.65  0.0  0.581  5.879  95.8  2.0063   2.0  188.0  19.1   \n",
       "139   0.54452  0.0  21.89  0.0  0.624  6.151  97.9  1.6687   4.0  437.0  21.2   \n",
       "422  12.04820  0.0  18.10  0.0  0.614  5.648  87.6  1.9512  24.0  666.0  20.2   \n",
       "384  20.08490  0.0  18.10  0.0  0.700  4.368  91.2  1.4395  24.0  666.0  20.2   \n",
       "\n",
       "         11     12  \n",
       "316  390.70  18.33  \n",
       "124  379.38  17.58  \n",
       "139  396.90  18.46  \n",
       "422  291.55  14.10  \n",
       "384  285.83  30.63  "
      ]
     },
     "execution_count": 4,
     "metadata": {},
     "output_type": "execute_result"
    }
   ],
   "source": [
    "# from sklearn.model_selection import train_test_split\n",
    "# from sklearn.datasets import load_boston\n",
    "# evaluation = 'neg_mean_squared_error'\n",
    "# R, t = load_boston(True)\n",
    "# R = pd.DataFrame(R)\n",
    "# raw_train_data, raw_test_data, y, v = train_test_split(R, t, random_state=47, test_size=0.15)\n",
    "# raw_train_data.head(5)"
   ]
  },
  {
   "cell_type": "code",
   "execution_count": 5,
   "metadata": {},
   "outputs": [
    {
     "data": {
      "text/plain": [
       "count    430.000000\n",
       "mean      22.362791\n",
       "std        9.254023\n",
       "min        5.000000\n",
       "25%       16.600000\n",
       "50%       20.950000\n",
       "75%       25.000000\n",
       "max       50.000000\n",
       "dtype: float64"
      ]
     },
     "execution_count": 5,
     "metadata": {},
     "output_type": "execute_result"
    }
   ],
   "source": [
    "pd.Series(y).describe()"
   ]
  },
  {
   "cell_type": "code",
   "execution_count": 6,
   "metadata": {},
   "outputs": [
    {
     "name": "stdout",
     "output_type": "stream",
     "text": [
      "<class 'pandas.core.frame.DataFrame'>\n",
      "Int64Index: 430 entries, 316 to 135\n",
      "Data columns (total 13 columns):\n",
      " #   Column  Non-Null Count  Dtype  \n",
      "---  ------  --------------  -----  \n",
      " 0   0       430 non-null    float64\n",
      " 1   1       430 non-null    float64\n",
      " 2   2       430 non-null    float64\n",
      " 3   3       430 non-null    float64\n",
      " 4   4       430 non-null    float64\n",
      " 5   5       430 non-null    float64\n",
      " 6   6       430 non-null    float64\n",
      " 7   7       430 non-null    float64\n",
      " 8   8       430 non-null    float64\n",
      " 9   9       430 non-null    float64\n",
      " 10  10      430 non-null    float64\n",
      " 11  11      430 non-null    float64\n",
      " 12  12      430 non-null    float64\n",
      "dtypes: float64(13)\n",
      "memory usage: 47.0 KB\n"
     ]
    }
   ],
   "source": [
    "raw_train_data.info()"
   ]
  },
  {
   "cell_type": "code",
   "execution_count": 7,
   "metadata": {},
   "outputs": [
    {
     "data": {
      "text/html": [
       "<div>\n",
       "<style scoped>\n",
       "    .dataframe tbody tr th:only-of-type {\n",
       "        vertical-align: middle;\n",
       "    }\n",
       "\n",
       "    .dataframe tbody tr th {\n",
       "        vertical-align: top;\n",
       "    }\n",
       "\n",
       "    .dataframe thead th {\n",
       "        text-align: right;\n",
       "    }\n",
       "</style>\n",
       "<table border=\"1\" class=\"dataframe\">\n",
       "  <thead>\n",
       "    <tr style=\"text-align: right;\">\n",
       "      <th></th>\n",
       "      <th>0</th>\n",
       "      <th>1</th>\n",
       "      <th>2</th>\n",
       "      <th>3</th>\n",
       "      <th>4</th>\n",
       "      <th>5</th>\n",
       "      <th>6</th>\n",
       "      <th>7</th>\n",
       "      <th>8</th>\n",
       "      <th>9</th>\n",
       "      <th>10</th>\n",
       "      <th>11</th>\n",
       "      <th>12</th>\n",
       "    </tr>\n",
       "  </thead>\n",
       "  <tbody>\n",
       "    <tr>\n",
       "      <th>count</th>\n",
       "      <td>430.000000</td>\n",
       "      <td>430.000000</td>\n",
       "      <td>430.000000</td>\n",
       "      <td>430.000000</td>\n",
       "      <td>430.000000</td>\n",
       "      <td>430.000000</td>\n",
       "      <td>430.000000</td>\n",
       "      <td>430.000000</td>\n",
       "      <td>430.000000</td>\n",
       "      <td>430.000000</td>\n",
       "      <td>430.000000</td>\n",
       "      <td>430.000000</td>\n",
       "      <td>430.000000</td>\n",
       "    </tr>\n",
       "    <tr>\n",
       "      <th>mean</th>\n",
       "      <td>3.740302</td>\n",
       "      <td>11.275581</td>\n",
       "      <td>11.110535</td>\n",
       "      <td>0.072093</td>\n",
       "      <td>0.557199</td>\n",
       "      <td>6.285598</td>\n",
       "      <td>68.552558</td>\n",
       "      <td>3.778647</td>\n",
       "      <td>9.597674</td>\n",
       "      <td>408.304651</td>\n",
       "      <td>18.470698</td>\n",
       "      <td>356.219442</td>\n",
       "      <td>12.802674</td>\n",
       "    </tr>\n",
       "    <tr>\n",
       "      <th>std</th>\n",
       "      <td>8.973376</td>\n",
       "      <td>23.082228</td>\n",
       "      <td>6.932679</td>\n",
       "      <td>0.258943</td>\n",
       "      <td>0.119271</td>\n",
       "      <td>0.704589</td>\n",
       "      <td>28.179947</td>\n",
       "      <td>2.110552</td>\n",
       "      <td>8.780063</td>\n",
       "      <td>170.159524</td>\n",
       "      <td>2.129048</td>\n",
       "      <td>92.281920</td>\n",
       "      <td>7.127608</td>\n",
       "    </tr>\n",
       "    <tr>\n",
       "      <th>min</th>\n",
       "      <td>0.006320</td>\n",
       "      <td>0.000000</td>\n",
       "      <td>0.460000</td>\n",
       "      <td>0.000000</td>\n",
       "      <td>0.385000</td>\n",
       "      <td>3.561000</td>\n",
       "      <td>2.900000</td>\n",
       "      <td>1.129600</td>\n",
       "      <td>1.000000</td>\n",
       "      <td>187.000000</td>\n",
       "      <td>12.600000</td>\n",
       "      <td>0.320000</td>\n",
       "      <td>1.730000</td>\n",
       "    </tr>\n",
       "    <tr>\n",
       "      <th>25%</th>\n",
       "      <td>0.079095</td>\n",
       "      <td>0.000000</td>\n",
       "      <td>5.130000</td>\n",
       "      <td>0.000000</td>\n",
       "      <td>0.449000</td>\n",
       "      <td>5.878250</td>\n",
       "      <td>45.175000</td>\n",
       "      <td>2.073700</td>\n",
       "      <td>4.000000</td>\n",
       "      <td>277.000000</td>\n",
       "      <td>17.400000</td>\n",
       "      <td>376.602500</td>\n",
       "      <td>7.192500</td>\n",
       "    </tr>\n",
       "    <tr>\n",
       "      <th>50%</th>\n",
       "      <td>0.252775</td>\n",
       "      <td>0.000000</td>\n",
       "      <td>9.125000</td>\n",
       "      <td>0.000000</td>\n",
       "      <td>0.538000</td>\n",
       "      <td>6.183500</td>\n",
       "      <td>77.100000</td>\n",
       "      <td>3.107300</td>\n",
       "      <td>5.000000</td>\n",
       "      <td>330.000000</td>\n",
       "      <td>19.100000</td>\n",
       "      <td>391.475000</td>\n",
       "      <td>11.675000</td>\n",
       "    </tr>\n",
       "    <tr>\n",
       "      <th>75%</th>\n",
       "      <td>3.692267</td>\n",
       "      <td>12.500000</td>\n",
       "      <td>18.100000</td>\n",
       "      <td>0.000000</td>\n",
       "      <td>0.631000</td>\n",
       "      <td>6.623500</td>\n",
       "      <td>94.075000</td>\n",
       "      <td>5.117675</td>\n",
       "      <td>24.000000</td>\n",
       "      <td>666.000000</td>\n",
       "      <td>20.200000</td>\n",
       "      <td>396.237500</td>\n",
       "      <td>17.157500</td>\n",
       "    </tr>\n",
       "    <tr>\n",
       "      <th>max</th>\n",
       "      <td>88.976200</td>\n",
       "      <td>95.000000</td>\n",
       "      <td>27.740000</td>\n",
       "      <td>1.000000</td>\n",
       "      <td>0.871000</td>\n",
       "      <td>8.780000</td>\n",
       "      <td>100.000000</td>\n",
       "      <td>12.126500</td>\n",
       "      <td>24.000000</td>\n",
       "      <td>711.000000</td>\n",
       "      <td>22.000000</td>\n",
       "      <td>396.900000</td>\n",
       "      <td>37.970000</td>\n",
       "    </tr>\n",
       "  </tbody>\n",
       "</table>\n",
       "</div>"
      ],
      "text/plain": [
       "               0           1           2           3           4           5   \\\n",
       "count  430.000000  430.000000  430.000000  430.000000  430.000000  430.000000   \n",
       "mean     3.740302   11.275581   11.110535    0.072093    0.557199    6.285598   \n",
       "std      8.973376   23.082228    6.932679    0.258943    0.119271    0.704589   \n",
       "min      0.006320    0.000000    0.460000    0.000000    0.385000    3.561000   \n",
       "25%      0.079095    0.000000    5.130000    0.000000    0.449000    5.878250   \n",
       "50%      0.252775    0.000000    9.125000    0.000000    0.538000    6.183500   \n",
       "75%      3.692267   12.500000   18.100000    0.000000    0.631000    6.623500   \n",
       "max     88.976200   95.000000   27.740000    1.000000    0.871000    8.780000   \n",
       "\n",
       "               6           7           8           9           10          11  \\\n",
       "count  430.000000  430.000000  430.000000  430.000000  430.000000  430.000000   \n",
       "mean    68.552558    3.778647    9.597674  408.304651   18.470698  356.219442   \n",
       "std     28.179947    2.110552    8.780063  170.159524    2.129048   92.281920   \n",
       "min      2.900000    1.129600    1.000000  187.000000   12.600000    0.320000   \n",
       "25%     45.175000    2.073700    4.000000  277.000000   17.400000  376.602500   \n",
       "50%     77.100000    3.107300    5.000000  330.000000   19.100000  391.475000   \n",
       "75%     94.075000    5.117675   24.000000  666.000000   20.200000  396.237500   \n",
       "max    100.000000   12.126500   24.000000  711.000000   22.000000  396.900000   \n",
       "\n",
       "               12  \n",
       "count  430.000000  \n",
       "mean    12.802674  \n",
       "std      7.127608  \n",
       "min      1.730000  \n",
       "25%      7.192500  \n",
       "50%     11.675000  \n",
       "75%     17.157500  \n",
       "max     37.970000  "
      ]
     },
     "execution_count": 7,
     "metadata": {},
     "output_type": "execute_result"
    }
   ],
   "source": [
    "raw_train_data.describe()"
   ]
  },
  {
   "cell_type": "markdown",
   "metadata": {},
   "source": [
    "### Prepare the data for Machine Learning"
   ]
  },
  {
   "cell_type": "code",
   "execution_count": 8,
   "metadata": {},
   "outputs": [],
   "source": [
    "def prepare(raw_DF):\n",
    "    DF = raw_DF.copy()\n",
    "    \n",
    "    return DF"
   ]
  },
  {
   "cell_type": "code",
   "execution_count": 9,
   "metadata": {},
   "outputs": [
    {
     "data": {
      "text/html": [
       "<div>\n",
       "<style scoped>\n",
       "    .dataframe tbody tr th:only-of-type {\n",
       "        vertical-align: middle;\n",
       "    }\n",
       "\n",
       "    .dataframe tbody tr th {\n",
       "        vertical-align: top;\n",
       "    }\n",
       "\n",
       "    .dataframe thead th {\n",
       "        text-align: right;\n",
       "    }\n",
       "</style>\n",
       "<table border=\"1\" class=\"dataframe\">\n",
       "  <thead>\n",
       "    <tr style=\"text-align: right;\">\n",
       "      <th></th>\n",
       "      <th>0</th>\n",
       "      <th>1</th>\n",
       "      <th>2</th>\n",
       "      <th>3</th>\n",
       "      <th>4</th>\n",
       "      <th>5</th>\n",
       "      <th>6</th>\n",
       "      <th>7</th>\n",
       "      <th>8</th>\n",
       "      <th>9</th>\n",
       "      <th>10</th>\n",
       "      <th>11</th>\n",
       "      <th>12</th>\n",
       "      <th>y</th>\n",
       "    </tr>\n",
       "  </thead>\n",
       "  <tbody>\n",
       "    <tr>\n",
       "      <th>0</th>\n",
       "      <td>-0.381798</td>\n",
       "      <td>-0.489065</td>\n",
       "      <td>-0.174816</td>\n",
       "      <td>-0.278737</td>\n",
       "      <td>-0.110795</td>\n",
       "      <td>-0.528010</td>\n",
       "      <td>0.520388</td>\n",
       "      <td>0.104337</td>\n",
       "      <td>-0.638286</td>\n",
       "      <td>-0.613696</td>\n",
       "      <td>-0.033245</td>\n",
       "      <td>0.374079</td>\n",
       "      <td>0.776384</td>\n",
       "      <td>17.8</td>\n",
       "    </tr>\n",
       "    <tr>\n",
       "      <th>1</th>\n",
       "      <td>-0.406319</td>\n",
       "      <td>-0.489065</td>\n",
       "      <td>2.099679</td>\n",
       "      <td>-0.278737</td>\n",
       "      <td>0.199784</td>\n",
       "      <td>-0.577743</td>\n",
       "      <td>0.968035</td>\n",
       "      <td>-0.840734</td>\n",
       "      <td>-0.866341</td>\n",
       "      <td>-1.296203</td>\n",
       "      <td>0.295923</td>\n",
       "      <td>0.251268</td>\n",
       "      <td>0.671037</td>\n",
       "      <td>18.8</td>\n",
       "    </tr>\n",
       "    <tr>\n",
       "      <th>2</th>\n",
       "      <td>-0.356555</td>\n",
       "      <td>-0.489065</td>\n",
       "      <td>1.556688</td>\n",
       "      <td>-0.278737</td>\n",
       "      <td>0.560727</td>\n",
       "      <td>-0.191252</td>\n",
       "      <td>1.042643</td>\n",
       "      <td>-1.000878</td>\n",
       "      <td>-0.638286</td>\n",
       "      <td>0.168834</td>\n",
       "      <td>1.283429</td>\n",
       "      <td>0.441343</td>\n",
       "      <td>0.794645</td>\n",
       "      <td>17.8</td>\n",
       "    </tr>\n",
       "    <tr>\n",
       "      <th>3</th>\n",
       "      <td>0.926917</td>\n",
       "      <td>-0.489065</td>\n",
       "      <td>1.009365</td>\n",
       "      <td>-0.278737</td>\n",
       "      <td>0.476787</td>\n",
       "      <td>-0.905975</td>\n",
       "      <td>0.676709</td>\n",
       "      <td>-0.866871</td>\n",
       "      <td>1.642255</td>\n",
       "      <td>1.516198</td>\n",
       "      <td>0.813188</td>\n",
       "      <td>-0.701598</td>\n",
       "      <td>0.182226</td>\n",
       "      <td>20.8</td>\n",
       "    </tr>\n",
       "    <tr>\n",
       "      <th>4</th>\n",
       "      <td>1.823576</td>\n",
       "      <td>-0.489065</td>\n",
       "      <td>1.009365</td>\n",
       "      <td>-0.278737</td>\n",
       "      <td>1.198673</td>\n",
       "      <td>-2.724752</td>\n",
       "      <td>0.804608</td>\n",
       "      <td>-1.109602</td>\n",
       "      <td>1.642255</td>\n",
       "      <td>1.516198</td>\n",
       "      <td>0.813188</td>\n",
       "      <td>-0.763654</td>\n",
       "      <td>2.504079</td>\n",
       "      <td>8.8</td>\n",
       "    </tr>\n",
       "  </tbody>\n",
       "</table>\n",
       "</div>"
      ],
      "text/plain": [
       "          0         1         2         3         4         5         6  \\\n",
       "0 -0.381798 -0.489065 -0.174816 -0.278737 -0.110795 -0.528010  0.520388   \n",
       "1 -0.406319 -0.489065  2.099679 -0.278737  0.199784 -0.577743  0.968035   \n",
       "2 -0.356555 -0.489065  1.556688 -0.278737  0.560727 -0.191252  1.042643   \n",
       "3  0.926917 -0.489065  1.009365 -0.278737  0.476787 -0.905975  0.676709   \n",
       "4  1.823576 -0.489065  1.009365 -0.278737  1.198673 -2.724752  0.804608   \n",
       "\n",
       "          7         8         9        10        11        12     y  \n",
       "0  0.104337 -0.638286 -0.613696 -0.033245  0.374079  0.776384  17.8  \n",
       "1 -0.840734 -0.866341 -1.296203  0.295923  0.251268  0.671037  18.8  \n",
       "2 -1.000878 -0.638286  0.168834  1.283429  0.441343  0.794645  17.8  \n",
       "3 -0.866871  1.642255  1.516198  0.813188 -0.701598  0.182226  20.8  \n",
       "4 -1.109602  1.642255  1.516198  0.813188 -0.763654  2.504079   8.8  "
      ]
     },
     "execution_count": 9,
     "metadata": {},
     "output_type": "execute_result"
    }
   ],
   "source": [
    "train_X = prepare(raw_train_data)\n",
    "test_X = prepare(raw_test_data)\n",
    "\n",
    "F = train_X.copy()\n",
    "F['y'] = y\n",
    "F.head()"
   ]
  },
  {
   "cell_type": "code",
   "execution_count": 10,
   "metadata": {},
   "outputs": [
    {
     "name": "stdout",
     "output_type": "stream",
     "text": [
      "<class 'pandas.core.frame.DataFrame'>\n",
      "RangeIndex: 430 entries, 0 to 429\n",
      "Data columns (total 14 columns):\n",
      " #   Column  Non-Null Count  Dtype  \n",
      "---  ------  --------------  -----  \n",
      " 0   0       430 non-null    float64\n",
      " 1   1       430 non-null    float64\n",
      " 2   2       430 non-null    float64\n",
      " 3   3       430 non-null    float64\n",
      " 4   4       430 non-null    float64\n",
      " 5   5       430 non-null    float64\n",
      " 6   6       430 non-null    float64\n",
      " 7   7       430 non-null    float64\n",
      " 8   8       430 non-null    float64\n",
      " 9   9       430 non-null    float64\n",
      " 10  10      430 non-null    float64\n",
      " 11  11      430 non-null    float64\n",
      " 12  12      430 non-null    float64\n",
      " 13  y       430 non-null    float64\n",
      "dtypes: float64(14)\n",
      "memory usage: 47.2 KB\n"
     ]
    }
   ],
   "source": [
    "F.info()"
   ]
  },
  {
   "cell_type": "markdown",
   "metadata": {},
   "source": [
    "### Visualize"
   ]
  },
  {
   "cell_type": "code",
   "execution_count": 11,
   "metadata": {},
   "outputs": [
    {
     "data": {
      "text/plain": [
       "y     1.000000\n",
       "12    0.734049\n",
       "5     0.716769\n",
       "2     0.512732\n",
       "10    0.490786\n",
       "9     0.480829\n",
       "4     0.438669\n",
       "6     0.404655\n",
       "0     0.389386\n",
       "8     0.387987\n",
       "1     0.362130\n",
       "11    0.346377\n",
       "7     0.266480\n",
       "3     0.199761\n",
       "Name: y, dtype: float64"
      ]
     },
     "execution_count": 11,
     "metadata": {},
     "output_type": "execute_result"
    }
   ],
   "source": [
    "F.corr().abs().sort_values('y', ascending=False).y"
   ]
  },
  {
   "cell_type": "code",
   "execution_count": 12,
   "metadata": {},
   "outputs": [
    {
     "data": {
      "image/png": "[encoded data removed]",
      "text/plain": [
       "<Figure size 1008x648 with 1 Axes>"
      ]
     },
     "metadata": {},
     "output_type": "display_data"
    }
   ],
   "source": [
    "dt = DecisionTreeRegressor().fit(train_X, y)\n",
    "plt.figure(figsize = (14, 9))\n",
    "plot_tree(dt, \n",
    "          max_depth = 3, \n",
    "          filled = True, \n",
    "          fontsize=12, \n",
    "          label='root', \n",
    "          impurity=False, \n",
    "          feature_names=train_X.columns\n",
    "         )\n",
    "plt.title('Features')\n",
    "plt.show()"
   ]
  },
  {
   "cell_type": "markdown",
   "metadata": {},
   "source": [
    "### List of Regressors\n",
    "https://scikit-learn.org/stable/supervised_learning.html"
   ]
  },
  {
   "cell_type": "code",
   "execution_count": 13,
   "metadata": {},
   "outputs": [],
   "source": [
    "# https://scikit-learn.org/stable/supervised_learning.html\n",
    "\n",
    "Regressors_small = [\n",
    "    MLPRegressor(), \n",
    "    KNeighborsRegressor(), \n",
    "    SVR(), \n",
    "    SGDRegressor(), \n",
    "    RandomForestRegressor()\n",
    "]\n",
    "\n",
    "Regressors_medium = [\n",
    "    RidgeCV(),\n",
    "    LinearSVR(),\n",
    "    GaussianProcessRegressor(), \n",
    "    DecisionTreeRegressor(), \n",
    "    AdaBoostRegressor(),\n",
    "    GradientBoostingRegressor(), \n",
    "    linear_model.PassiveAggressiveRegressor(),\n",
    "    \n",
    "    NuSVR(),\n",
    "    ensemble.ExtraTreesRegressor(),\n",
    "]"
   ]
  },
  {
   "cell_type": "markdown",
   "metadata": {},
   "source": [
    "### Tips on Practical Use of some classifiers\n",
    "\n",
    "https://scikit-learn.org/stable/modules/svm.html#tips-on-practical-use\n",
    "\n",
    "https://scikit-learn.org/stable/modules/sgd.html#tips-on-practical-use\n",
    "\n",
    "https://scikit-learn.org/stable/modules/tree.html#tips-on-practical-use\n",
    "\n",
    "https://scikit-learn.org/stable/modules/neural_networks_supervised.html#tips-on-practical-use\n"
   ]
  },
  {
   "cell_type": "markdown",
   "metadata": {},
   "source": [
    "### Parameter Grid"
   ]
  },
  {
   "cell_type": "code",
   "execution_count": 14,
   "metadata": {},
   "outputs": [],
   "source": [
    "# parameter tuning\n",
    "mlpc_parameters = {\n",
    "    'activation': ['relu', 'logistic'], \n",
    "    'alpha': 10.0 ** -np.arange(1, 7),\n",
    "}\n",
    "\n",
    "knn_parameters = {\n",
    "    'n_neighbors': range(1, 20),\n",
    "    'weights': ['uniform', 'distance']\n",
    "}\n",
    "\n",
    "svc_parameters = {\n",
    "    'gamma': ['scale', 'auto']    \n",
    "}\n",
    "\n",
    "sgd_parameters = {\n",
    "    'alpha': 10.0**-np.arange(1,7)\n",
    "}\n",
    "\n",
    "rf_parameters = {\n",
    "    'n_estimators': [300]\n",
    "}"
   ]
  },
  {
   "cell_type": "markdown",
   "metadata": {},
   "source": [
    "### Making the list of Classifiers"
   ]
  },
  {
   "cell_type": "code",
   "execution_count": 15,
   "metadata": {},
   "outputs": [],
   "source": [
    "mlpc_models = [MLPRegressor(**params) for params in ParameterGrid(mlpc_parameters)]\n",
    "knn_models = [KNeighborsRegressor(**params) for params in ParameterGrid(knn_parameters)]\n",
    "svc_models = [SVR(**params) for params in ParameterGrid(svc_parameters)]\n",
    "sgd_models = [SGDRegressor(**params) for params in ParameterGrid(sgd_parameters)]\n",
    "rf_models = [RandomForestRegressor(**params) for params in ParameterGrid(rf_parameters)]"
   ]
  },
  {
   "cell_type": "code",
   "execution_count": 16,
   "metadata": {},
   "outputs": [],
   "source": [
    "MLA = Regressors_small\n",
    "MLA = mlpc_models + knn_models + svc_models + sgd_models + rf_models\n",
    "MLA = MLA + Regressors_medium"
   ]
  },
  {
   "cell_type": "markdown",
   "metadata": {},
   "source": [
    "### Checking the accuracy of each of the Classifiers\n",
    "https://scikit-learn.org/stable/modules/generated/sklearn.model_selection.cross_validate.html"
   ]
  },
  {
   "cell_type": "code",
   "execution_count": 17,
   "metadata": {},
   "outputs": [],
   "source": [
    "paramlist = ['activation', 'alpha', 'class_weight', 'n_neighbours', 'weights', 'gamma', 'n_estimators',\n",
    "            'final_estimator']\n",
    "scoring_metrics = [evaluation]\n",
    "metrics = ['fit_time'] +  ['test_'+m for m in scoring_metrics]\n",
    "main_scorer = 'test_'+scoring_metrics[0]\n",
    "\n",
    "\n",
    "def cv(alg, X, y):\n",
    "    name = alg.__class__.__name__\n",
    "#     params = alg.get_params()\n",
    "#     imp_params = {p: params[p] for p in params if p in paramlist}\n",
    "    \n",
    "    score = pd.DataFrame(cross_validate(alg, X, y, scoring=scoring_metrics))\n",
    "    \n",
    "    df = pd.DataFrame({\n",
    "        name: [alg] + \n",
    "        #[imp_params] + \n",
    "        [score[i].mean() for i in metrics] + [score[main_scorer].std()]\n",
    "    })\n",
    "    \n",
    "    return df.transpose()\n",
    "\n",
    "\n",
    "def CVscoreDF(MLA, X, y):\n",
    "    M = pd.DataFrame()\n",
    "    for alg in MLA:\n",
    "        M = M.append(cv(alg, X, y))\n",
    "\n",
    "    M = M.rename(columns={i: c for i, c in enumerate(['models']+metrics+['std_test_score'])})\n",
    "    M = M.sort_values(main_scorer, ascending = False)\n",
    "    return M"
   ]
  },
  {
   "cell_type": "code",
   "execution_count": 18,
   "metadata": {
    "scrolled": true
   },
   "outputs": [
    {
     "data": {
      "text/html": [
       "<div>\n",
       "<style scoped>\n",
       "    .dataframe tbody tr th:only-of-type {\n",
       "        vertical-align: middle;\n",
       "    }\n",
       "\n",
       "    .dataframe tbody tr th {\n",
       "        vertical-align: top;\n",
       "    }\n",
       "\n",
       "    .dataframe thead th {\n",
       "        text-align: right;\n",
       "    }\n",
       "</style>\n",
       "<table border=\"1\" class=\"dataframe\">\n",
       "  <thead>\n",
       "    <tr style=\"text-align: right;\">\n",
       "      <th></th>\n",
       "      <th>models</th>\n",
       "      <th>fit_time</th>\n",
       "      <th>test_neg_mean_squared_error</th>\n",
       "      <th>std_test_score</th>\n",
       "    </tr>\n",
       "  </thead>\n",
       "  <tbody>\n",
       "    <tr>\n",
       "      <th>GradientBoostingRegressor</th>\n",
       "      <td>GradientBoostingRegressor()</td>\n",
       "      <td>0.2092</td>\n",
       "      <td>-10.1877</td>\n",
       "      <td>3.03763</td>\n",
       "    </tr>\n",
       "    <tr>\n",
       "      <th>ExtraTreesRegressor</th>\n",
       "      <td>ExtraTreesRegressor()</td>\n",
       "      <td>0.390798</td>\n",
       "      <td>-11.4958</td>\n",
       "      <td>5.92583</td>\n",
       "    </tr>\n",
       "    <tr>\n",
       "      <th>RandomForestRegressor</th>\n",
       "      <td>RandomForestRegressor(n_estimators=300)</td>\n",
       "      <td>1.78019</td>\n",
       "      <td>-12.6323</td>\n",
       "      <td>4.24828</td>\n",
       "    </tr>\n",
       "    <tr>\n",
       "      <th>AdaBoostRegressor</th>\n",
       "      <td>AdaBoostRegressor()</td>\n",
       "      <td>0.21301</td>\n",
       "      <td>-14.4225</td>\n",
       "      <td>5.03271</td>\n",
       "    </tr>\n",
       "    <tr>\n",
       "      <th>KNeighborsRegressor</th>\n",
       "      <td>KNeighborsRegressor(n_neighbors=3, weights='di...</td>\n",
       "      <td>0.00599852</td>\n",
       "      <td>-18.9749</td>\n",
       "      <td>8.78441</td>\n",
       "    </tr>\n",
       "    <tr>\n",
       "      <th>KNeighborsRegressor</th>\n",
       "      <td>KNeighborsRegressor(n_neighbors=10, weights='d...</td>\n",
       "      <td>0.00621977</td>\n",
       "      <td>-19.3675</td>\n",
       "      <td>8.74729</td>\n",
       "    </tr>\n",
       "    <tr>\n",
       "      <th>KNeighborsRegressor</th>\n",
       "      <td>KNeighborsRegressor(n_neighbors=4, weights='di...</td>\n",
       "      <td>0.00700665</td>\n",
       "      <td>-19.4053</td>\n",
       "      <td>8.41393</td>\n",
       "    </tr>\n",
       "    <tr>\n",
       "      <th>KNeighborsRegressor</th>\n",
       "      <td>KNeighborsRegressor(n_neighbors=8, weights='di...</td>\n",
       "      <td>0.00740781</td>\n",
       "      <td>-19.4498</td>\n",
       "      <td>8.74675</td>\n",
       "    </tr>\n",
       "    <tr>\n",
       "      <th>KNeighborsRegressor</th>\n",
       "      <td>KNeighborsRegressor(n_neighbors=9, weights='di...</td>\n",
       "      <td>0.0064014</td>\n",
       "      <td>-19.4713</td>\n",
       "      <td>8.86041</td>\n",
       "    </tr>\n",
       "    <tr>\n",
       "      <th>KNeighborsRegressor</th>\n",
       "      <td>KNeighborsRegressor(n_neighbors=7, weights='di...</td>\n",
       "      <td>0.00700073</td>\n",
       "      <td>-19.729</td>\n",
       "      <td>9.28185</td>\n",
       "    </tr>\n",
       "  </tbody>\n",
       "</table>\n",
       "</div>"
      ],
      "text/plain": [
       "                                                                      models  \\\n",
       "GradientBoostingRegressor                        GradientBoostingRegressor()   \n",
       "ExtraTreesRegressor                                    ExtraTreesRegressor()   \n",
       "RandomForestRegressor                RandomForestRegressor(n_estimators=300)   \n",
       "AdaBoostRegressor                                        AdaBoostRegressor()   \n",
       "KNeighborsRegressor        KNeighborsRegressor(n_neighbors=3, weights='di...   \n",
       "KNeighborsRegressor        KNeighborsRegressor(n_neighbors=10, weights='d...   \n",
       "KNeighborsRegressor        KNeighborsRegressor(n_neighbors=4, weights='di...   \n",
       "KNeighborsRegressor        KNeighborsRegressor(n_neighbors=8, weights='di...   \n",
       "KNeighborsRegressor        KNeighborsRegressor(n_neighbors=9, weights='di...   \n",
       "KNeighborsRegressor        KNeighborsRegressor(n_neighbors=7, weights='di...   \n",
       "\n",
       "                             fit_time test_neg_mean_squared_error  \\\n",
       "GradientBoostingRegressor      0.2092                    -10.1877   \n",
       "ExtraTreesRegressor          0.390798                    -11.4958   \n",
       "RandomForestRegressor         1.78019                    -12.6323   \n",
       "AdaBoostRegressor             0.21301                    -14.4225   \n",
       "KNeighborsRegressor        0.00599852                    -18.9749   \n",
       "KNeighborsRegressor        0.00621977                    -19.3675   \n",
       "KNeighborsRegressor        0.00700665                    -19.4053   \n",
       "KNeighborsRegressor        0.00740781                    -19.4498   \n",
       "KNeighborsRegressor         0.0064014                    -19.4713   \n",
       "KNeighborsRegressor        0.00700073                     -19.729   \n",
       "\n",
       "                          std_test_score  \n",
       "GradientBoostingRegressor        3.03763  \n",
       "ExtraTreesRegressor              5.92583  \n",
       "RandomForestRegressor            4.24828  \n",
       "AdaBoostRegressor                5.03271  \n",
       "KNeighborsRegressor              8.78441  \n",
       "KNeighborsRegressor              8.74729  \n",
       "KNeighborsRegressor              8.41393  \n",
       "KNeighborsRegressor              8.74675  \n",
       "KNeighborsRegressor              8.86041  \n",
       "KNeighborsRegressor              9.28185  "
      ]
     },
     "execution_count": 18,
     "metadata": {},
     "output_type": "execute_result"
    }
   ],
   "source": [
    "Score = CVscoreDF(MLA, train_X, y)\n",
    "Score.head(10)"
   ]
  },
  {
   "cell_type": "markdown",
   "metadata": {},
   "source": [
    "### Stack Ensembling\n",
    "https://scikit-learn.org/stable/modules/generated/sklearn.ensemble.StackingClassifier.html\n",
    "\n",
    "https://scikit-learn.org/stable/modules/linear_model.html"
   ]
  },
  {
   "cell_type": "code",
   "execution_count": 19,
   "metadata": {},
   "outputs": [
    {
     "data": {
      "text/plain": [
       "[('GradientBoostingRegressor0', GradientBoostingRegressor()),\n",
       " ('ExtraTreesRegressor1', ExtraTreesRegressor()),\n",
       " ('RandomForestRegressor2', RandomForestRegressor(n_estimators=300)),\n",
       " ('AdaBoostRegressor3', AdaBoostRegressor()),\n",
       " ('KNeighborsRegressor4',\n",
       "  KNeighborsRegressor(n_neighbors=3, weights='distance'))]"
      ]
     },
     "execution_count": 19,
     "metadata": {},
     "output_type": "execute_result"
    }
   ],
   "source": [
    "# List of the Classifiers to be stacked\n",
    "\n",
    "MLA = Score.models.head(32).to_list()\n",
    "Stack_estimators = [\n",
    "    (a.__class__.__name__ + str(i), a) for i, a in enumerate(MLA)\n",
    "]\n",
    "Stack_estimators[:5]"
   ]
  },
  {
   "cell_type": "code",
   "execution_count": 20,
   "metadata": {},
   "outputs": [
    {
     "data": {
      "text/plain": [
       "StackingRegressor(estimators=[('GradientBoostingRegressor0',\n",
       "                               GradientBoostingRegressor()),\n",
       "                              ('ExtraTreesRegressor1', ExtraTreesRegressor()),\n",
       "                              ('RandomForestRegressor2',\n",
       "                               RandomForestRegressor(n_estimators=300)),\n",
       "                              ('AdaBoostRegressor3', AdaBoostRegressor()),\n",
       "                              ('KNeighborsRegressor4',\n",
       "                               KNeighborsRegressor(n_neighbors=3,\n",
       "                                                   weights='distance')),\n",
       "                              ('KNeighborsRegressor5',\n",
       "                               K...\n",
       "                               KNeighborsRegressor(n_neighbors=19,\n",
       "                                                   weights='distance')),\n",
       "                              ('KNeighborsRegressor25',\n",
       "                               KNeighborsRegressor(n_neighbors=9)),\n",
       "                              ('KNeighborsRegressor26',\n",
       "                               KNeighborsRegressor(n_neighbors=8)),\n",
       "                              ('KNeighborsRegressor27',\n",
       "                               KNeighborsRegressor(n_neighbors=4)),\n",
       "                              ('KNeighborsRegressor28',\n",
       "                               KNeighborsRegressor(n_neighbors=11)),\n",
       "                              ('KNeighborsRegressor29',\n",
       "                               KNeighborsRegressor(n_neighbors=12)), ...])"
      ]
     },
     "execution_count": 20,
     "metadata": {},
     "output_type": "execute_result"
    }
   ],
   "source": [
    "LSstack = StackingRegressor(Stack_estimators)\n",
    "LSstack.fit(train_X, y)"
   ]
  },
  {
   "cell_type": "code",
   "execution_count": 21,
   "metadata": {},
   "outputs": [
    {
     "data": {
      "text/plain": [
       "VotingRegressor(estimators=[('GradientBoostingRegressor0',\n",
       "                             GradientBoostingRegressor()),\n",
       "                            ('ExtraTreesRegressor1', ExtraTreesRegressor()),\n",
       "                            ('RandomForestRegressor2',\n",
       "                             RandomForestRegressor(n_estimators=300)),\n",
       "                            ('AdaBoostRegressor3', AdaBoostRegressor()),\n",
       "                            ('KNeighborsRegressor4',\n",
       "                             KNeighborsRegressor(n_neighbors=3,\n",
       "                                                 weights='distance')),\n",
       "                            ('KNeighborsRegressor5',\n",
       "                             KNe...\n",
       "                             KNeighborsRegressor(n_neighbors=19,\n",
       "                                                 weights='distance')),\n",
       "                            ('KNeighborsRegressor25',\n",
       "                             KNeighborsRegressor(n_neighbors=9)),\n",
       "                            ('KNeighborsRegressor26',\n",
       "                             KNeighborsRegressor(n_neighbors=8)),\n",
       "                            ('KNeighborsRegressor27',\n",
       "                             KNeighborsRegressor(n_neighbors=4)),\n",
       "                            ('KNeighborsRegressor28',\n",
       "                             KNeighborsRegressor(n_neighbors=11)),\n",
       "                            ('KNeighborsRegressor29',\n",
       "                             KNeighborsRegressor(n_neighbors=12)), ...])"
      ]
     },
     "execution_count": 21,
     "metadata": {},
     "output_type": "execute_result"
    }
   ],
   "source": [
    "Vstack = VotingRegressor(Stack_estimators)\n",
    "Vstack.fit(train_X, y)"
   ]
  },
  {
   "cell_type": "code",
   "execution_count": 22,
   "metadata": {},
   "outputs": [],
   "source": [
    "# stack_parameters = {\n",
    "#     'final_estimator': [\n",
    "#         LinearSVR(), \n",
    "#         linear_model.LogisticRegressionCV(),\n",
    "#     ] \n",
    "# }\n",
    "# gscv = GridSearchCV(StackingRegressor(Stack_estimators), stack_parameters)"
   ]
  },
  {
   "cell_type": "code",
   "execution_count": 23,
   "metadata": {},
   "outputs": [],
   "source": [
    "# gscv.fit(train_X, y)\n",
    "# score = pd.DataFrame(gscv.cv_results_).sort_values('rank_test_score')\n",
    "# score[['params', 'mean_test_score', 'rank_test_score', 'std_test_score']].head()"
   ]
  },
  {
   "cell_type": "markdown",
   "metadata": {},
   "source": [
    "## Own Stack Regressor\n",
    "https://scikit-learn.org/stable/modules/generated/sklearn.feature_selection.RFECV.html"
   ]
  },
  {
   "cell_type": "code",
   "execution_count": 24,
   "metadata": {},
   "outputs": [],
   "source": [
    "TrainedMLA  = list(Stack_estimators)\n",
    "for n, alg in TrainedMLA:\n",
    "    alg.fit(train_X, y)"
   ]
  },
  {
   "cell_type": "code",
   "execution_count": 25,
   "metadata": {},
   "outputs": [],
   "source": [
    "lscaler = None\n",
    "def level1(X):\n",
    "    global lscaler\n",
    "    L1 = pd.DataFrame({'temp':X.index})\n",
    "    for name, alg in TrainedMLA:\n",
    "        L1[name] = alg.predict(X)\n",
    "\n",
    "    L1 = L1.drop(columns = ['temp'])\n",
    "    if lscaler == None:\n",
    "        lscaler = StandardScaler().fit(L1)\n",
    "    L1 = lscaler.transform(L1)\n",
    "    return L1\n",
    "L1 = level1(train_X)"
   ]
  },
  {
   "cell_type": "code",
   "execution_count": 26,
   "metadata": {},
   "outputs": [],
   "source": [
    "FLSstack = RFECV(RidgeCV(), \n",
    "                 scoring = evaluation)"
   ]
  },
  {
   "cell_type": "code",
   "execution_count": 27,
   "metadata": {},
   "outputs": [
    {
     "name": "stdout",
     "output_type": "stream",
     "text": [
      "RFECV num Features: 19 \n",
      "RidgeCV mean rmse: -1.16418567485315e-06\n"
     ]
    }
   ],
   "source": [
    "FLSstack.fit(L1, y)\n",
    "print ('RFECV num Features:',FLSstack.n_features_, \n",
    "       '\\nRidgeCV mean rmse:', FLSstack.grid_scores_.mean())"
   ]
  },
  {
   "cell_type": "code",
   "execution_count": 28,
   "metadata": {},
   "outputs": [
    {
     "data": {
      "text/plain": [
       "StackingRegressor(estimators=[('GradientBoostingRegressor0',\n",
       "                               GradientBoostingRegressor()),\n",
       "                              ('ExtraTreesRegressor1', ExtraTreesRegressor()),\n",
       "                              ('RandomForestRegressor2',\n",
       "                               RandomForestRegressor(n_estimators=300)),\n",
       "                              ('AdaBoostRegressor3', AdaBoostRegressor()),\n",
       "                              ('KNeighborsRegressor4',\n",
       "                               KNeighborsRegressor(n_neighbors=3,\n",
       "                                                   weights='distance')),\n",
       "                              ('KNeighborsRegressor5',\n",
       "                               K...\n",
       "                               KNeighborsRegressor(n_neighbors=19,\n",
       "                                                   weights='distance')),\n",
       "                              ('KNeighborsRegressor25',\n",
       "                               KNeighborsRegressor(n_neighbors=9)),\n",
       "                              ('KNeighborsRegressor26',\n",
       "                               KNeighborsRegressor(n_neighbors=8)),\n",
       "                              ('KNeighborsRegressor27',\n",
       "                               KNeighborsRegressor(n_neighbors=4)),\n",
       "                              ('KNeighborsRegressor28',\n",
       "                               KNeighborsRegressor(n_neighbors=11)),\n",
       "                              ('KNeighborsRegressor29',\n",
       "                               KNeighborsRegressor(n_neighbors=12)), ...])"
      ]
     },
     "execution_count": 28,
     "metadata": {},
     "output_type": "execute_result"
    }
   ],
   "source": [
    "imp_models = Score.models.head(32)[FLSstack.support_].tolist()\n",
    "Stack_estimators = [\n",
    "    (a.__class__.__name__ + str(i), a) for i, a in enumerate(MLA)\n",
    "]\n",
    "RFEstack = StackingRegressor(Stack_estimators)\n",
    "RFEstack.fit(train_X, y)"
   ]
  },
  {
   "cell_type": "markdown",
   "metadata": {},
   "source": [
    "### If still unsatisfied:\n",
    "https://mlens.readthedocs.io/en/0.1.x/source/mlens.ensemble/"
   ]
  },
  {
   "cell_type": "markdown",
   "metadata": {},
   "source": [
    "### Choose your Classifier and Predict on the test data set"
   ]
  },
  {
   "cell_type": "code",
   "execution_count": 29,
   "metadata": {},
   "outputs": [
    {
     "data": {
      "text/plain": [
       "GradientBoostingRegressor()"
      ]
     },
     "execution_count": 29,
     "metadata": {},
     "output_type": "execute_result"
    }
   ],
   "source": [
    "single_Regressor = Score.models.iloc[0]\n",
    "single_Regressor.fit(train_X, y)"
   ]
  },
  {
   "cell_type": "code",
   "execution_count": 30,
   "metadata": {},
   "outputs": [],
   "source": [
    "predictions_single = single_Regressor.predict(test_X)\n",
    "predictions_stack = LSstack.predict(test_X)\n",
    "predictions_vstack = Vstack.predict(test_X)\n",
    "predictions_flsstack = FLSstack.predict(level1(test_X))\n",
    "predictions_rfestack = RFEstack.predict(test_X)"
   ]
  },
  {
   "cell_type": "code",
   "execution_count": 31,
   "metadata": {},
   "outputs": [
    {
     "name": "stdout",
     "output_type": "stream",
     "text": [
      "Single: 7.663037467036735\n",
      "Stack: 8.806379051246381\n",
      "Voting Stack: 16.887181424803106\n",
      "Own stack: 17.751320903948354\n",
      "RFE stack: 8.415951125204497\n"
     ]
    }
   ],
   "source": [
    "print ('Single:', sklearn.metrics.mean_squared_error(v, predictions_single))\n",
    "print ('Stack:', sklearn.metrics.mean_squared_error(v, predictions_stack))\n",
    "print ('Voting Stack:', sklearn.metrics.mean_squared_error(v, predictions_vstack))\n",
    "print ('Own stack:', sklearn.metrics.mean_squared_error(v, predictions_flsstack))\n",
    "print ('RFE stack:', sklearn.metrics.mean_squared_error(v, predictions_rfestack))"
   ]
  },
  {
   "cell_type": "code",
   "execution_count": null,
   "metadata": {},
   "outputs": [],
   "source": []
  }
 ],
 "metadata": {
  "kernelspec": {
   "display_name": "Python 3.7.4 64-bit",
   "language": "python",
   "name": "python37464bitb122d7ed60ea485982511a1bcddbd83a"
  },
  "language_info": {
   "codemirror_mode": {
    "name": "ipython",
    "version": 3
   },
   "file_extension": ".py",
   "mimetype": "text/x-python",
   "name": "python",
   "nbconvert_exporter": "python",
   "pygments_lexer": "ipython3",
   "version": "3.7.4"
  }
 },
 "nbformat": 4,
 "nbformat_minor": 2
}
