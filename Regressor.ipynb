{
 "cells": [
  {
   "cell_type": "markdown",
   "metadata": {},
   "source": [
    "### Import Libraries"
   ]
  },
  {
   "cell_type": "code",
   "execution_count": 1,
   "metadata": {},
   "outputs": [],
   "source": [
    "import pandas as pd\n",
    "import numpy as np\n",
    "import sklearn\n",
    "\n",
    "import warnings\n",
    "warnings.filterwarnings('ignore')\n",
    "\n",
    "import matplotlib.pyplot as plt\n",
    "import seaborn as sns\n",
    "from matplotlib import style\n",
    "style.use('ggplot')"
   ]
  },
  {
   "cell_type": "code",
   "execution_count": 2,
   "metadata": {},
   "outputs": [],
   "source": [
    "from sklearn.model_selection import KFold, GridSearchCV, cross_validate, ParameterGrid\n",
    "from sklearn.feature_selection import RFECV\n",
    "from sklearn.base import clone\n",
    "from sklearn.preprocessing import StandardScaler, LabelEncoder\n",
    "\n",
    "from sklearn.neural_network import MLPRegressor\n",
    "from sklearn.neighbors import KNeighborsRegressor\n",
    "from sklearn.svm import SVR, LinearSVR, NuSVR\n",
    "from sklearn.gaussian_process import GaussianProcessRegressor\n",
    "from sklearn.tree import DecisionTreeRegressor, plot_tree\n",
    "from sklearn.ensemble import RandomForestRegressor, GradientBoostingRegressor, ExtraTreesRegressor, AdaBoostRegressor\n",
    "from sklearn.linear_model import SGDRegressor, LogisticRegressionCV, RidgeCV\n",
    "\n",
    "from sklearn import linear_model, ensemble\n",
    "\n",
    "from sklearn.ensemble import StackingRegressor, VotingRegressor"
   ]
  },
  {
   "cell_type": "markdown",
   "metadata": {},
   "source": [
    "### Import the Train data set and Test data set "
   ]
  },
  {
   "cell_type": "code",
   "execution_count": 3,
   "metadata": {},
   "outputs": [
    {
     "data": {
      "text/html": [
       "<div>\n",
       "<style scoped>\n",
       "    .dataframe tbody tr th:only-of-type {\n",
       "        vertical-align: middle;\n",
       "    }\n",
       "\n",
       "    .dataframe tbody tr th {\n",
       "        vertical-align: top;\n",
       "    }\n",
       "\n",
       "    .dataframe thead th {\n",
       "        text-align: right;\n",
       "    }\n",
       "</style>\n",
       "<table border=\"1\" class=\"dataframe\">\n",
       "  <thead>\n",
       "    <tr style=\"text-align: right;\">\n",
       "      <th></th>\n",
       "      <th>LotFrontage</th>\n",
       "      <th>LotArea</th>\n",
       "      <th>OverallQual</th>\n",
       "      <th>OverallCond</th>\n",
       "      <th>YearBuilt</th>\n",
       "      <th>YearRemodAdd</th>\n",
       "      <th>MasVnrArea</th>\n",
       "      <th>BsmtFinSF1</th>\n",
       "      <th>BsmtFinSF2</th>\n",
       "      <th>BsmtUnfSF</th>\n",
       "      <th>...</th>\n",
       "      <th>SaleType_ConLw</th>\n",
       "      <th>SaleType_New</th>\n",
       "      <th>SaleType_Oth</th>\n",
       "      <th>SaleType_WD</th>\n",
       "      <th>SaleCondition_Abnorml</th>\n",
       "      <th>SaleCondition_AdjLand</th>\n",
       "      <th>SaleCondition_Alloca</th>\n",
       "      <th>SaleCondition_Family</th>\n",
       "      <th>SaleCondition_Partial</th>\n",
       "      <th>Id</th>\n",
       "    </tr>\n",
       "  </thead>\n",
       "  <tbody>\n",
       "    <tr>\n",
       "      <th>0</th>\n",
       "      <td>-0.129931</td>\n",
       "      <td>-0.155586</td>\n",
       "      <td>0.672280</td>\n",
       "      <td>-0.453217</td>\n",
       "      <td>1.147933</td>\n",
       "      <td>0.929322</td>\n",
       "      <td>1.246171</td>\n",
       "      <td>0.794646</td>\n",
       "      <td>-0.365991</td>\n",
       "      <td>-1.050480</td>\n",
       "      <td>...</td>\n",
       "      <td>0.0</td>\n",
       "      <td>0.0</td>\n",
       "      <td>0.0</td>\n",
       "      <td>1.0</td>\n",
       "      <td>0.0</td>\n",
       "      <td>0.0</td>\n",
       "      <td>0.0</td>\n",
       "      <td>0.0</td>\n",
       "      <td>0.0</td>\n",
       "      <td>1</td>\n",
       "    </tr>\n",
       "    <tr>\n",
       "      <th>1</th>\n",
       "      <td>0.553114</td>\n",
       "      <td>0.142585</td>\n",
       "      <td>-0.017057</td>\n",
       "      <td>1.934108</td>\n",
       "      <td>-0.010675</td>\n",
       "      <td>-0.592154</td>\n",
       "      <td>-0.768637</td>\n",
       "      <td>1.210991</td>\n",
       "      <td>-0.365991</td>\n",
       "      <td>-0.574229</td>\n",
       "      <td>...</td>\n",
       "      <td>0.0</td>\n",
       "      <td>0.0</td>\n",
       "      <td>0.0</td>\n",
       "      <td>1.0</td>\n",
       "      <td>0.0</td>\n",
       "      <td>0.0</td>\n",
       "      <td>0.0</td>\n",
       "      <td>0.0</td>\n",
       "      <td>0.0</td>\n",
       "      <td>2</td>\n",
       "    </tr>\n",
       "    <tr>\n",
       "      <th>2</th>\n",
       "      <td>0.015456</td>\n",
       "      <td>0.502563</td>\n",
       "      <td>0.672280</td>\n",
       "      <td>-0.453217</td>\n",
       "      <td>1.051643</td>\n",
       "      <td>0.857357</td>\n",
       "      <td>1.108725</td>\n",
       "      <td>0.363497</td>\n",
       "      <td>-0.365991</td>\n",
       "      <td>-0.106155</td>\n",
       "      <td>...</td>\n",
       "      <td>0.0</td>\n",
       "      <td>0.0</td>\n",
       "      <td>0.0</td>\n",
       "      <td>1.0</td>\n",
       "      <td>0.0</td>\n",
       "      <td>0.0</td>\n",
       "      <td>0.0</td>\n",
       "      <td>0.0</td>\n",
       "      <td>0.0</td>\n",
       "      <td>3</td>\n",
       "    </tr>\n",
       "    <tr>\n",
       "      <th>3</th>\n",
       "      <td>-0.381843</td>\n",
       "      <td>0.130448</td>\n",
       "      <td>0.672280</td>\n",
       "      <td>-0.453217</td>\n",
       "      <td>-1.620217</td>\n",
       "      <td>-0.822258</td>\n",
       "      <td>-0.768637</td>\n",
       "      <td>-0.375798</td>\n",
       "      <td>-0.365991</td>\n",
       "      <td>0.180128</td>\n",
       "      <td>...</td>\n",
       "      <td>0.0</td>\n",
       "      <td>0.0</td>\n",
       "      <td>0.0</td>\n",
       "      <td>1.0</td>\n",
       "      <td>1.0</td>\n",
       "      <td>0.0</td>\n",
       "      <td>0.0</td>\n",
       "      <td>0.0</td>\n",
       "      <td>0.0</td>\n",
       "      <td>4</td>\n",
       "    </tr>\n",
       "    <tr>\n",
       "      <th>4</th>\n",
       "      <td>0.720013</td>\n",
       "      <td>1.009159</td>\n",
       "      <td>1.322129</td>\n",
       "      <td>-0.453217</td>\n",
       "      <td>1.004078</td>\n",
       "      <td>0.716743</td>\n",
       "      <td>1.585134</td>\n",
       "      <td>0.704265</td>\n",
       "      <td>-0.365991</td>\n",
       "      <td>0.049879</td>\n",
       "      <td>...</td>\n",
       "      <td>0.0</td>\n",
       "      <td>0.0</td>\n",
       "      <td>0.0</td>\n",
       "      <td>1.0</td>\n",
       "      <td>0.0</td>\n",
       "      <td>0.0</td>\n",
       "      <td>0.0</td>\n",
       "      <td>0.0</td>\n",
       "      <td>0.0</td>\n",
       "      <td>5</td>\n",
       "    </tr>\n",
       "  </tbody>\n",
       "</table>\n",
       "<p>5 rows × 128 columns</p>\n",
       "</div>"
      ],
      "text/plain": [
       "   LotFrontage   LotArea  OverallQual  OverallCond  YearBuilt  YearRemodAdd  \\\n",
       "0    -0.129931 -0.155586     0.672280    -0.453217   1.147933      0.929322   \n",
       "1     0.553114  0.142585    -0.017057     1.934108  -0.010675     -0.592154   \n",
       "2     0.015456  0.502563     0.672280    -0.453217   1.051643      0.857357   \n",
       "3    -0.381843  0.130448     0.672280    -0.453217  -1.620217     -0.822258   \n",
       "4     0.720013  1.009159     1.322129    -0.453217   1.004078      0.716743   \n",
       "\n",
       "   MasVnrArea  BsmtFinSF1  BsmtFinSF2  BsmtUnfSF  ...  SaleType_ConLw  \\\n",
       "0    1.246171    0.794646   -0.365991  -1.050480  ...             0.0   \n",
       "1   -0.768637    1.210991   -0.365991  -0.574229  ...             0.0   \n",
       "2    1.108725    0.363497   -0.365991  -0.106155  ...             0.0   \n",
       "3   -0.768637   -0.375798   -0.365991   0.180128  ...             0.0   \n",
       "4    1.585134    0.704265   -0.365991   0.049879  ...             0.0   \n",
       "\n",
       "   SaleType_New  SaleType_Oth  SaleType_WD  SaleCondition_Abnorml  \\\n",
       "0           0.0           0.0          1.0                    0.0   \n",
       "1           0.0           0.0          1.0                    0.0   \n",
       "2           0.0           0.0          1.0                    0.0   \n",
       "3           0.0           0.0          1.0                    1.0   \n",
       "4           0.0           0.0          1.0                    0.0   \n",
       "\n",
       "   SaleCondition_AdjLand  SaleCondition_Alloca  SaleCondition_Family  \\\n",
       "0                    0.0                   0.0                   0.0   \n",
       "1                    0.0                   0.0                   0.0   \n",
       "2                    0.0                   0.0                   0.0   \n",
       "3                    0.0                   0.0                   0.0   \n",
       "4                    0.0                   0.0                   0.0   \n",
       "\n",
       "   SaleCondition_Partial  Id  \n",
       "0                    0.0   1  \n",
       "1                    0.0   2  \n",
       "2                    0.0   3  \n",
       "3                    0.0   4  \n",
       "4                    0.0   5  \n",
       "\n",
       "[5 rows x 128 columns]"
      ]
     },
     "execution_count": 3,
     "metadata": {},
     "output_type": "execute_result"
    }
   ],
   "source": [
    "loc_train = 'data\\\\train.csv'\n",
    "loc_test = 'data\\\\test.csv'\n",
    "\n",
    "target = 'SalePrice'\n",
    "evaluation = 'neg_root_mean_squared_error'\n",
    "\n",
    "raw_train_data = pd.read_csv(loc_train)\n",
    "y = raw_train_data[target]\n",
    "raw_train_data = raw_train_data.drop(target, axis=1)\n",
    "raw_test_data = pd.read_csv(loc_test)\n",
    "raw_train_data.head(5)"
   ]
  },
  {
   "cell_type": "code",
   "execution_count": 4,
   "metadata": {},
   "outputs": [],
   "source": [
    "y = np.log(y)"
   ]
  },
  {
   "cell_type": "code",
   "execution_count": 5,
   "metadata": {},
   "outputs": [],
   "source": [
    "# from sklearn.model_selection import train_test_split\n",
    "# from sklearn.datasets import load_boston\n",
    "# evaluation = 'neg_mean_squared_error'\n",
    "# R, t = load_boston(True)\n",
    "# R = pd.DataFrame(R)\n",
    "# raw_train_data, raw_test_data, y, v = train_test_split(R, t, random_state=47, test_size=0.15)\n",
    "# raw_train_data.head(5)"
   ]
  },
  {
   "cell_type": "code",
   "execution_count": 6,
   "metadata": {},
   "outputs": [],
   "source": [
    "# pd.Series(y).describe()"
   ]
  },
  {
   "cell_type": "code",
   "execution_count": 7,
   "metadata": {},
   "outputs": [],
   "source": [
    "# raw_train_data.info()"
   ]
  },
  {
   "cell_type": "code",
   "execution_count": 8,
   "metadata": {},
   "outputs": [],
   "source": [
    "# raw_train_data.describe()"
   ]
  },
  {
   "cell_type": "markdown",
   "metadata": {},
   "source": [
    "### Prepare the data for Machine Learning"
   ]
  },
  {
   "cell_type": "code",
   "execution_count": 9,
   "metadata": {},
   "outputs": [],
   "source": [
    "def prepare(raw_DF):\n",
    "    DF = raw_DF.copy()\n",
    "    \n",
    "    DF = DF.drop('Id', axis= 1)\n",
    "    \n",
    "    return DF"
   ]
  },
  {
   "cell_type": "code",
   "execution_count": 10,
   "metadata": {},
   "outputs": [
    {
     "data": {
      "text/html": [
       "<div>\n",
       "<style scoped>\n",
       "    .dataframe tbody tr th:only-of-type {\n",
       "        vertical-align: middle;\n",
       "    }\n",
       "\n",
       "    .dataframe tbody tr th {\n",
       "        vertical-align: top;\n",
       "    }\n",
       "\n",
       "    .dataframe thead th {\n",
       "        text-align: right;\n",
       "    }\n",
       "</style>\n",
       "<table border=\"1\" class=\"dataframe\">\n",
       "  <thead>\n",
       "    <tr style=\"text-align: right;\">\n",
       "      <th></th>\n",
       "      <th>LotFrontage</th>\n",
       "      <th>LotArea</th>\n",
       "      <th>OverallQual</th>\n",
       "      <th>OverallCond</th>\n",
       "      <th>YearBuilt</th>\n",
       "      <th>YearRemodAdd</th>\n",
       "      <th>MasVnrArea</th>\n",
       "      <th>BsmtFinSF1</th>\n",
       "      <th>BsmtFinSF2</th>\n",
       "      <th>BsmtUnfSF</th>\n",
       "      <th>...</th>\n",
       "      <th>SaleType_ConLw</th>\n",
       "      <th>SaleType_New</th>\n",
       "      <th>SaleType_Oth</th>\n",
       "      <th>SaleType_WD</th>\n",
       "      <th>SaleCondition_Abnorml</th>\n",
       "      <th>SaleCondition_AdjLand</th>\n",
       "      <th>SaleCondition_Alloca</th>\n",
       "      <th>SaleCondition_Family</th>\n",
       "      <th>SaleCondition_Partial</th>\n",
       "      <th>y</th>\n",
       "    </tr>\n",
       "  </thead>\n",
       "  <tbody>\n",
       "    <tr>\n",
       "      <th>0</th>\n",
       "      <td>-0.129931</td>\n",
       "      <td>-0.155586</td>\n",
       "      <td>0.672280</td>\n",
       "      <td>-0.453217</td>\n",
       "      <td>1.147933</td>\n",
       "      <td>0.929322</td>\n",
       "      <td>1.246171</td>\n",
       "      <td>0.794646</td>\n",
       "      <td>-0.365991</td>\n",
       "      <td>-1.050480</td>\n",
       "      <td>...</td>\n",
       "      <td>0.0</td>\n",
       "      <td>0.0</td>\n",
       "      <td>0.0</td>\n",
       "      <td>1.0</td>\n",
       "      <td>0.0</td>\n",
       "      <td>0.0</td>\n",
       "      <td>0.0</td>\n",
       "      <td>0.0</td>\n",
       "      <td>0.0</td>\n",
       "      <td>12.247694</td>\n",
       "    </tr>\n",
       "    <tr>\n",
       "      <th>1</th>\n",
       "      <td>0.553114</td>\n",
       "      <td>0.142585</td>\n",
       "      <td>-0.017057</td>\n",
       "      <td>1.934108</td>\n",
       "      <td>-0.010675</td>\n",
       "      <td>-0.592154</td>\n",
       "      <td>-0.768637</td>\n",
       "      <td>1.210991</td>\n",
       "      <td>-0.365991</td>\n",
       "      <td>-0.574229</td>\n",
       "      <td>...</td>\n",
       "      <td>0.0</td>\n",
       "      <td>0.0</td>\n",
       "      <td>0.0</td>\n",
       "      <td>1.0</td>\n",
       "      <td>0.0</td>\n",
       "      <td>0.0</td>\n",
       "      <td>0.0</td>\n",
       "      <td>0.0</td>\n",
       "      <td>0.0</td>\n",
       "      <td>12.109011</td>\n",
       "    </tr>\n",
       "    <tr>\n",
       "      <th>2</th>\n",
       "      <td>0.015456</td>\n",
       "      <td>0.502563</td>\n",
       "      <td>0.672280</td>\n",
       "      <td>-0.453217</td>\n",
       "      <td>1.051643</td>\n",
       "      <td>0.857357</td>\n",
       "      <td>1.108725</td>\n",
       "      <td>0.363497</td>\n",
       "      <td>-0.365991</td>\n",
       "      <td>-0.106155</td>\n",
       "      <td>...</td>\n",
       "      <td>0.0</td>\n",
       "      <td>0.0</td>\n",
       "      <td>0.0</td>\n",
       "      <td>1.0</td>\n",
       "      <td>0.0</td>\n",
       "      <td>0.0</td>\n",
       "      <td>0.0</td>\n",
       "      <td>0.0</td>\n",
       "      <td>0.0</td>\n",
       "      <td>12.317167</td>\n",
       "    </tr>\n",
       "    <tr>\n",
       "      <th>3</th>\n",
       "      <td>-0.381843</td>\n",
       "      <td>0.130448</td>\n",
       "      <td>0.672280</td>\n",
       "      <td>-0.453217</td>\n",
       "      <td>-1.620217</td>\n",
       "      <td>-0.822258</td>\n",
       "      <td>-0.768637</td>\n",
       "      <td>-0.375798</td>\n",
       "      <td>-0.365991</td>\n",
       "      <td>0.180128</td>\n",
       "      <td>...</td>\n",
       "      <td>0.0</td>\n",
       "      <td>0.0</td>\n",
       "      <td>0.0</td>\n",
       "      <td>1.0</td>\n",
       "      <td>1.0</td>\n",
       "      <td>0.0</td>\n",
       "      <td>0.0</td>\n",
       "      <td>0.0</td>\n",
       "      <td>0.0</td>\n",
       "      <td>11.849398</td>\n",
       "    </tr>\n",
       "    <tr>\n",
       "      <th>4</th>\n",
       "      <td>0.720013</td>\n",
       "      <td>1.009159</td>\n",
       "      <td>1.322129</td>\n",
       "      <td>-0.453217</td>\n",
       "      <td>1.004078</td>\n",
       "      <td>0.716743</td>\n",
       "      <td>1.585134</td>\n",
       "      <td>0.704265</td>\n",
       "      <td>-0.365991</td>\n",
       "      <td>0.049879</td>\n",
       "      <td>...</td>\n",
       "      <td>0.0</td>\n",
       "      <td>0.0</td>\n",
       "      <td>0.0</td>\n",
       "      <td>1.0</td>\n",
       "      <td>0.0</td>\n",
       "      <td>0.0</td>\n",
       "      <td>0.0</td>\n",
       "      <td>0.0</td>\n",
       "      <td>0.0</td>\n",
       "      <td>12.429216</td>\n",
       "    </tr>\n",
       "  </tbody>\n",
       "</table>\n",
       "<p>5 rows × 128 columns</p>\n",
       "</div>"
      ],
      "text/plain": [
       "   LotFrontage   LotArea  OverallQual  OverallCond  YearBuilt  YearRemodAdd  \\\n",
       "0    -0.129931 -0.155586     0.672280    -0.453217   1.147933      0.929322   \n",
       "1     0.553114  0.142585    -0.017057     1.934108  -0.010675     -0.592154   \n",
       "2     0.015456  0.502563     0.672280    -0.453217   1.051643      0.857357   \n",
       "3    -0.381843  0.130448     0.672280    -0.453217  -1.620217     -0.822258   \n",
       "4     0.720013  1.009159     1.322129    -0.453217   1.004078      0.716743   \n",
       "\n",
       "   MasVnrArea  BsmtFinSF1  BsmtFinSF2  BsmtUnfSF  ...  SaleType_ConLw  \\\n",
       "0    1.246171    0.794646   -0.365991  -1.050480  ...             0.0   \n",
       "1   -0.768637    1.210991   -0.365991  -0.574229  ...             0.0   \n",
       "2    1.108725    0.363497   -0.365991  -0.106155  ...             0.0   \n",
       "3   -0.768637   -0.375798   -0.365991   0.180128  ...             0.0   \n",
       "4    1.585134    0.704265   -0.365991   0.049879  ...             0.0   \n",
       "\n",
       "   SaleType_New  SaleType_Oth  SaleType_WD  SaleCondition_Abnorml  \\\n",
       "0           0.0           0.0          1.0                    0.0   \n",
       "1           0.0           0.0          1.0                    0.0   \n",
       "2           0.0           0.0          1.0                    0.0   \n",
       "3           0.0           0.0          1.0                    1.0   \n",
       "4           0.0           0.0          1.0                    0.0   \n",
       "\n",
       "   SaleCondition_AdjLand  SaleCondition_Alloca  SaleCondition_Family  \\\n",
       "0                    0.0                   0.0                   0.0   \n",
       "1                    0.0                   0.0                   0.0   \n",
       "2                    0.0                   0.0                   0.0   \n",
       "3                    0.0                   0.0                   0.0   \n",
       "4                    0.0                   0.0                   0.0   \n",
       "\n",
       "   SaleCondition_Partial          y  \n",
       "0                    0.0  12.247694  \n",
       "1                    0.0  12.109011  \n",
       "2                    0.0  12.317167  \n",
       "3                    0.0  11.849398  \n",
       "4                    0.0  12.429216  \n",
       "\n",
       "[5 rows x 128 columns]"
      ]
     },
     "execution_count": 10,
     "metadata": {},
     "output_type": "execute_result"
    }
   ],
   "source": [
    "train_X = prepare(raw_train_data)\n",
    "test_X = prepare(raw_test_data)\n",
    "\n",
    "F = train_X.copy()\n",
    "F['y'] = y\n",
    "F.head()"
   ]
  },
  {
   "cell_type": "code",
   "execution_count": 11,
   "metadata": {},
   "outputs": [
    {
     "name": "stdout",
     "output_type": "stream",
     "text": [
      "<class 'pandas.core.frame.DataFrame'>\n",
      "RangeIndex: 1460 entries, 0 to 1459\n",
      "Columns: 128 entries, LotFrontage to y\n",
      "dtypes: float64(128)\n",
      "memory usage: 1.4 MB\n"
     ]
    }
   ],
   "source": [
    "F.info()"
   ]
  },
  {
   "cell_type": "markdown",
   "metadata": {},
   "source": [
    "### Visualize"
   ]
  },
  {
   "cell_type": "code",
   "execution_count": 12,
   "metadata": {},
   "outputs": [
    {
     "data": {
      "text/plain": [
       "y                   1.000000\n",
       "OverallQual         0.813685\n",
       "GrLivArea           0.728897\n",
       "GarageCars          0.684798\n",
       "GarageArea          0.651735\n",
       "                      ...   \n",
       "RoofMatl_Tar&Grv    0.009607\n",
       "OverallCond         0.006177\n",
       "GarageCond_Gd       0.005239\n",
       "BsmtHalfBath        0.004477\n",
       "SaleType_ConLI      0.003058\n",
       "Name: y, Length: 128, dtype: float64"
      ]
     },
     "execution_count": 12,
     "metadata": {},
     "output_type": "execute_result"
    }
   ],
   "source": [
    "F.corr().abs().sort_values('y', ascending=False).y"
   ]
  },
  {
   "cell_type": "code",
   "execution_count": 13,
   "metadata": {},
   "outputs": [
    {
     "data": {
      "image/png": "[encoded data removed]",
      "text/plain": [
       "<Figure size 1008x648 with 1 Axes>"
      ]
     },
     "metadata": {},
     "output_type": "display_data"
    }
   ],
   "source": [
    "dt = DecisionTreeRegressor().fit(train_X, y)\n",
    "plt.figure(figsize = (14, 9))\n",
    "plot_tree(dt, \n",
    "          max_depth = 3, \n",
    "          filled = True, \n",
    "          fontsize=12, \n",
    "          label='root', \n",
    "          impurity=False, \n",
    "          feature_names=train_X.columns\n",
    "         )\n",
    "plt.title('Features')\n",
    "plt.show()"
   ]
  },
  {
   "cell_type": "markdown",
   "metadata": {},
   "source": [
    "### List of Regressors\n",
    "https://scikit-learn.org/stable/supervised_learning.html"
   ]
  },
  {
   "cell_type": "code",
   "execution_count": 14,
   "metadata": {},
   "outputs": [],
   "source": [
    "# https://scikit-learn.org/stable/supervised_learning.html\n",
    "\n",
    "Regressors_small = [\n",
    "    GradientBoostingRegressor(), \n",
    "    RidgeCV(),\n",
    "    KNeighborsRegressor(), \n",
    "    RandomForestRegressor(),\n",
    "    ExtraTreesRegressor(),\n",
    "]\n",
    "\n",
    "Regressors_medium = [\n",
    "    linear_model.LarsCV(),\n",
    "    linear_model.LassoCV(),\n",
    "    linear_model.LassoLarsCV(),\n",
    "    MLPRegressor(), \n",
    "    SVR(), \n",
    "    SGDRegressor(), \n",
    "    LinearSVR(),\n",
    "    GaussianProcessRegressor(), \n",
    "    DecisionTreeRegressor(), \n",
    "    AdaBoostRegressor(),\n",
    "    linear_model.PassiveAggressiveRegressor(),\n",
    "    \n",
    "    NuSVR(),\n",
    "]"
   ]
  },
  {
   "cell_type": "markdown",
   "metadata": {},
   "source": [
    "### Tips on Practical Use of some classifiers\n",
    "\n",
    "https://scikit-learn.org/stable/modules/svm.html#tips-on-practical-use\n",
    "\n",
    "https://scikit-learn.org/stable/modules/sgd.html#tips-on-practical-use\n",
    "\n",
    "https://scikit-learn.org/stable/modules/tree.html#tips-on-practical-use\n",
    "\n",
    "https://scikit-learn.org/stable/modules/neural_networks_supervised.html#tips-on-practical-use\n"
   ]
  },
  {
   "cell_type": "markdown",
   "metadata": {},
   "source": [
    "### Parameter Grid"
   ]
  },
  {
   "cell_type": "code",
   "execution_count": 15,
   "metadata": {},
   "outputs": [],
   "source": [
    "# parameter tuning\n",
    "gbt_parameters = {\n",
    "    'n_estimators': [100, 300, 500, 700], \n",
    "    'loss': ['ls', 'lad', 'huber'], \n",
    "    'warm_start': [True]\n",
    "}\n",
    "\n",
    "knn_parameters = {\n",
    "    'n_neighbors': range(1, 20),\n",
    "    'weights': ['uniform', 'distance']\n",
    "}\n",
    "\n",
    "rf_parameters = {\n",
    "    'n_estimators': [100, 300, 500, 700], \n",
    "    'warm_start': [True]\n",
    "}\n",
    "\n",
    "et_parameters = {\n",
    "    'n_estimators': [100, 300, 500, 700], \n",
    "    'warm_start': [True]\n",
    "}\n",
    "\n",
    "ridge_parameters = {\n",
    "    'scoring': [None, evaluation]\n",
    "}"
   ]
  },
  {
   "cell_type": "markdown",
   "metadata": {},
   "source": [
    "### Making the list of Classifiers"
   ]
  },
  {
   "cell_type": "code",
   "execution_count": 16,
   "metadata": {},
   "outputs": [],
   "source": [
    "gbt_models = [GradientBoostingRegressor(**params) for params in ParameterGrid(gbt_parameters)]\n",
    "knn_models = [KNeighborsRegressor(**params) for params in ParameterGrid(knn_parameters)]\n",
    "et_models = [ExtraTreesRegressor(**params) for params in ParameterGrid(et_parameters)]\n",
    "ridge_models = [RidgeCV(**params) for params in ParameterGrid(ridge_parameters)]\n",
    "rf_models = [RandomForestRegressor(**params) for params in ParameterGrid(rf_parameters)]"
   ]
  },
  {
   "cell_type": "code",
   "execution_count": 17,
   "metadata": {},
   "outputs": [],
   "source": [
    "MLA = Regressors_small\n",
    "MLA = gbt_models + knn_models + et_models + ridge_models + rf_models\n",
    "MLA = MLA + Regressors_medium"
   ]
  },
  {
   "cell_type": "markdown",
   "metadata": {},
   "source": [
    "### Checking the accuracy of each of the Classifiers\n",
    "https://scikit-learn.org/stable/modules/generated/sklearn.model_selection.cross_validate.html"
   ]
  },
  {
   "cell_type": "code",
   "execution_count": 18,
   "metadata": {},
   "outputs": [],
   "source": [
    "paramlist = ['n_neighbors', 'n_estimators', 'final_estimator', 'weights', 'loss', 'scoring']\n",
    "scoring_metrics = [evaluation]\n",
    "metrics = ['fit_time'] +  ['test_'+m for m in scoring_metrics]\n",
    "main_scorer = 'test_'+scoring_metrics[0]\n",
    "\n",
    "\n",
    "def cv(alg, X, y):\n",
    "    name = alg.__class__.__name__\n",
    "    params = alg.get_params()\n",
    "    imp_params = {p: params[p] for p in params if p in paramlist}\n",
    "    \n",
    "    score = pd.DataFrame(cross_validate(alg, X, y, scoring=scoring_metrics))\n",
    "    \n",
    "    df = pd.DataFrame({\n",
    "        name: [alg] + \n",
    "        [score[i].mean() for i in metrics] + [score[main_scorer].std()]\n",
    "        + [imp_params] \n",
    "    })\n",
    "    \n",
    "    return df.transpose()\n",
    "\n",
    "\n",
    "def CVscoreDF(MLA, X, y):\n",
    "    M = pd.DataFrame()\n",
    "    for alg in MLA:\n",
    "        try:\n",
    "            M = M.append(cv(alg, X, y))\n",
    "        except:\n",
    "            continue\n",
    "\n",
    "    M = M.rename(columns={i: c for i, c in enumerate(['models']+metrics+['std_test_score']+['params'])})\n",
    "    M = M.sort_values(main_scorer, ascending = False)\n",
    "    return M"
   ]
  },
  {
   "cell_type": "code",
   "execution_count": 19,
   "metadata": {
    "scrolled": true
   },
   "outputs": [
    {
     "data": {
      "text/html": [
       "<div>\n",
       "<style scoped>\n",
       "    .dataframe tbody tr th:only-of-type {\n",
       "        vertical-align: middle;\n",
       "    }\n",
       "\n",
       "    .dataframe tbody tr th {\n",
       "        vertical-align: top;\n",
       "    }\n",
       "\n",
       "    .dataframe thead th {\n",
       "        text-align: right;\n",
       "    }\n",
       "</style>\n",
       "<table border=\"1\" class=\"dataframe\">\n",
       "  <thead>\n",
       "    <tr style=\"text-align: right;\">\n",
       "      <th></th>\n",
       "      <th>models</th>\n",
       "      <th>fit_time</th>\n",
       "      <th>test_neg_root_mean_squared_error</th>\n",
       "      <th>std_test_score</th>\n",
       "      <th>params</th>\n",
       "    </tr>\n",
       "  </thead>\n",
       "  <tbody>\n",
       "    <tr>\n",
       "      <th>GradientBoostingRegressor</th>\n",
       "      <td>GradientBoostingRegressor(loss='huber', n_esti...</td>\n",
       "      <td>2.37401</td>\n",
       "      <td>-0.120052</td>\n",
       "      <td>0.013438</td>\n",
       "      <td>{'loss': 'huber', 'n_estimators': 300}</td>\n",
       "    </tr>\n",
       "    <tr>\n",
       "      <th>GradientBoostingRegressor</th>\n",
       "      <td>GradientBoostingRegressor(loss='huber', n_esti...</td>\n",
       "      <td>5.5454</td>\n",
       "      <td>-0.12133</td>\n",
       "      <td>0.0142658</td>\n",
       "      <td>{'loss': 'huber', 'n_estimators': 700}</td>\n",
       "    </tr>\n",
       "    <tr>\n",
       "      <th>GradientBoostingRegressor</th>\n",
       "      <td>GradientBoostingRegressor(loss='huber', n_esti...</td>\n",
       "      <td>3.98738</td>\n",
       "      <td>-0.121348</td>\n",
       "      <td>0.0147392</td>\n",
       "      <td>{'loss': 'huber', 'n_estimators': 500}</td>\n",
       "    </tr>\n",
       "    <tr>\n",
       "      <th>GradientBoostingRegressor</th>\n",
       "      <td>GradientBoostingRegressor(n_estimators=500, wa...</td>\n",
       "      <td>2.8032</td>\n",
       "      <td>-0.122739</td>\n",
       "      <td>0.0117246</td>\n",
       "      <td>{'loss': 'ls', 'n_estimators': 500}</td>\n",
       "    </tr>\n",
       "    <tr>\n",
       "      <th>GradientBoostingRegressor</th>\n",
       "      <td>GradientBoostingRegressor(n_estimators=700, wa...</td>\n",
       "      <td>3.88499</td>\n",
       "      <td>-0.123293</td>\n",
       "      <td>0.0127114</td>\n",
       "      <td>{'loss': 'ls', 'n_estimators': 700}</td>\n",
       "    </tr>\n",
       "    <tr>\n",
       "      <th>GradientBoostingRegressor</th>\n",
       "      <td>GradientBoostingRegressor(n_estimators=300, wa...</td>\n",
       "      <td>1.67698</td>\n",
       "      <td>-0.123385</td>\n",
       "      <td>0.0116914</td>\n",
       "      <td>{'loss': 'ls', 'n_estimators': 300}</td>\n",
       "    </tr>\n",
       "    <tr>\n",
       "      <th>LassoLarsCV</th>\n",
       "      <td>LassoLarsCV()</td>\n",
       "      <td>0.378798</td>\n",
       "      <td>-0.124113</td>\n",
       "      <td>0.0178852</td>\n",
       "      <td>{}</td>\n",
       "    </tr>\n",
       "    <tr>\n",
       "      <th>GradientBoostingRegressor</th>\n",
       "      <td>GradientBoostingRegressor(loss='lad', n_estima...</td>\n",
       "      <td>5.07718</td>\n",
       "      <td>-0.124927</td>\n",
       "      <td>0.0100013</td>\n",
       "      <td>{'loss': 'lad', 'n_estimators': 700}</td>\n",
       "    </tr>\n",
       "    <tr>\n",
       "      <th>LassoCV</th>\n",
       "      <td>LassoCV()</td>\n",
       "      <td>0.234964</td>\n",
       "      <td>-0.125021</td>\n",
       "      <td>0.018966</td>\n",
       "      <td>{}</td>\n",
       "    </tr>\n",
       "    <tr>\n",
       "      <th>GradientBoostingRegressor</th>\n",
       "      <td>GradientBoostingRegressor(loss='huber', warm_s...</td>\n",
       "      <td>0.797805</td>\n",
       "      <td>-0.126306</td>\n",
       "      <td>0.0117901</td>\n",
       "      <td>{'loss': 'huber', 'n_estimators': 100}</td>\n",
       "    </tr>\n",
       "  </tbody>\n",
       "</table>\n",
       "</div>"
      ],
      "text/plain": [
       "                                                                      models  \\\n",
       "GradientBoostingRegressor  GradientBoostingRegressor(loss='huber', n_esti...   \n",
       "GradientBoostingRegressor  GradientBoostingRegressor(loss='huber', n_esti...   \n",
       "GradientBoostingRegressor  GradientBoostingRegressor(loss='huber', n_esti...   \n",
       "GradientBoostingRegressor  GradientBoostingRegressor(n_estimators=500, wa...   \n",
       "GradientBoostingRegressor  GradientBoostingRegressor(n_estimators=700, wa...   \n",
       "GradientBoostingRegressor  GradientBoostingRegressor(n_estimators=300, wa...   \n",
       "LassoLarsCV                                                    LassoLarsCV()   \n",
       "GradientBoostingRegressor  GradientBoostingRegressor(loss='lad', n_estima...   \n",
       "LassoCV                                                            LassoCV()   \n",
       "GradientBoostingRegressor  GradientBoostingRegressor(loss='huber', warm_s...   \n",
       "\n",
       "                           fit_time test_neg_root_mean_squared_error  \\\n",
       "GradientBoostingRegressor   2.37401                        -0.120052   \n",
       "GradientBoostingRegressor    5.5454                         -0.12133   \n",
       "GradientBoostingRegressor   3.98738                        -0.121348   \n",
       "GradientBoostingRegressor    2.8032                        -0.122739   \n",
       "GradientBoostingRegressor   3.88499                        -0.123293   \n",
       "GradientBoostingRegressor   1.67698                        -0.123385   \n",
       "LassoLarsCV                0.378798                        -0.124113   \n",
       "GradientBoostingRegressor   5.07718                        -0.124927   \n",
       "LassoCV                    0.234964                        -0.125021   \n",
       "GradientBoostingRegressor  0.797805                        -0.126306   \n",
       "\n",
       "                          std_test_score  \\\n",
       "GradientBoostingRegressor       0.013438   \n",
       "GradientBoostingRegressor      0.0142658   \n",
       "GradientBoostingRegressor      0.0147392   \n",
       "GradientBoostingRegressor      0.0117246   \n",
       "GradientBoostingRegressor      0.0127114   \n",
       "GradientBoostingRegressor      0.0116914   \n",
       "LassoLarsCV                    0.0178852   \n",
       "GradientBoostingRegressor      0.0100013   \n",
       "LassoCV                         0.018966   \n",
       "GradientBoostingRegressor      0.0117901   \n",
       "\n",
       "                                                           params  \n",
       "GradientBoostingRegressor  {'loss': 'huber', 'n_estimators': 300}  \n",
       "GradientBoostingRegressor  {'loss': 'huber', 'n_estimators': 700}  \n",
       "GradientBoostingRegressor  {'loss': 'huber', 'n_estimators': 500}  \n",
       "GradientBoostingRegressor     {'loss': 'ls', 'n_estimators': 500}  \n",
       "GradientBoostingRegressor     {'loss': 'ls', 'n_estimators': 700}  \n",
       "GradientBoostingRegressor     {'loss': 'ls', 'n_estimators': 300}  \n",
       "LassoLarsCV                                                    {}  \n",
       "GradientBoostingRegressor    {'loss': 'lad', 'n_estimators': 700}  \n",
       "LassoCV                                                        {}  \n",
       "GradientBoostingRegressor  {'loss': 'huber', 'n_estimators': 100}  "
      ]
     },
     "execution_count": 19,
     "metadata": {},
     "output_type": "execute_result"
    }
   ],
   "source": [
    "Score = CVscoreDF(MLA, train_X, y)\n",
    "Score.head(10)"
   ]
  },
  {
   "cell_type": "markdown",
   "metadata": {},
   "source": [
    "### Stack Ensembling\n",
    "https://scikit-learn.org/stable/modules/generated/sklearn.ensemble.StackingClassifier.html\n",
    "\n",
    "https://scikit-learn.org/stable/modules/linear_model.html"
   ]
  },
  {
   "cell_type": "code",
   "execution_count": 20,
   "metadata": {},
   "outputs": [
    {
     "data": {
      "text/plain": [
       "[('GradientBoostingRegressor0',\n",
       "  GradientBoostingRegressor(loss='huber', n_estimators=300, warm_start=True)),\n",
       " ('GradientBoostingRegressor1',\n",
       "  GradientBoostingRegressor(loss='huber', n_estimators=700, warm_start=True)),\n",
       " ('GradientBoostingRegressor2',\n",
       "  GradientBoostingRegressor(loss='huber', n_estimators=500, warm_start=True)),\n",
       " ('GradientBoostingRegressor3',\n",
       "  GradientBoostingRegressor(n_estimators=500, warm_start=True)),\n",
       " ('GradientBoostingRegressor4',\n",
       "  GradientBoostingRegressor(n_estimators=700, warm_start=True))]"
      ]
     },
     "execution_count": 20,
     "metadata": {},
     "output_type": "execute_result"
    }
   ],
   "source": [
    "# List of the Classifiers to be stacked\n",
    "\n",
    "MLAi = Score.models.head(32).to_list()\n",
    "Stack_estimators = [\n",
    "    (a.__class__.__name__ + str(i), a) for i, a in enumerate(MLAi)\n",
    "]\n",
    "Stack_estimators[:5]"
   ]
  },
  {
   "cell_type": "code",
   "execution_count": 21,
   "metadata": {},
   "outputs": [
    {
     "data": {
      "text/plain": [
       "StackingRegressor(estimators=[('GradientBoostingRegressor0',\n",
       "                               GradientBoostingRegressor(loss='huber',\n",
       "                                                         n_estimators=300,\n",
       "                                                         warm_start=True)),\n",
       "                              ('GradientBoostingRegressor1',\n",
       "                               GradientBoostingRegressor(loss='huber',\n",
       "                                                         n_estimators=700,\n",
       "                                                         warm_start=True)),\n",
       "                              ('GradientBoostingRegressor2',\n",
       "                               GradientBoostingRegressor(loss='huber',\n",
       "                                                         n_estimators=500,\n",
       "                                                         warm_start=True)),\n",
       "                              ('Gradie...\n",
       "                              ('RandomForestRegressor24',\n",
       "                               RandomForestRegressor(n_estimators=700,\n",
       "                                                     warm_start=True)),\n",
       "                              ('RandomForestRegressor25',\n",
       "                               RandomForestRegressor(warm_start=True)),\n",
       "                              ('LinearSVR26', LinearSVR()),\n",
       "                              ('LarsCV27', LarsCV()),\n",
       "                              ('KNeighborsRegressor28',\n",
       "                               KNeighborsRegressor(n_neighbors=10,\n",
       "                                                   weights='distance')),\n",
       "                              ('KNeighborsRegressor29',\n",
       "                               KNeighborsRegressor(n_neighbors=11,\n",
       "                                                   weights='distance')), ...])"
      ]
     },
     "execution_count": 21,
     "metadata": {},
     "output_type": "execute_result"
    }
   ],
   "source": [
    "LSstack = StackingRegressor(Stack_estimators)\n",
    "LSstack.fit(train_X, y)"
   ]
  },
  {
   "cell_type": "code",
   "execution_count": 22,
   "metadata": {},
   "outputs": [
    {
     "data": {
      "text/plain": [
       "VotingRegressor(estimators=[('GradientBoostingRegressor0',\n",
       "                             GradientBoostingRegressor(loss='huber',\n",
       "                                                       n_estimators=300,\n",
       "                                                       warm_start=True)),\n",
       "                            ('GradientBoostingRegressor1',\n",
       "                             GradientBoostingRegressor(loss='huber',\n",
       "                                                       n_estimators=700,\n",
       "                                                       warm_start=True)),\n",
       "                            ('GradientBoostingRegressor2',\n",
       "                             GradientBoostingRegressor(loss='huber',\n",
       "                                                       n_estimators=500,\n",
       "                                                       warm_start=True)),\n",
       "                            ('Gradient...\n",
       "                            ('RandomForestRegressor24',\n",
       "                             RandomForestRegressor(n_estimators=700,\n",
       "                                                   warm_start=True)),\n",
       "                            ('RandomForestRegressor25',\n",
       "                             RandomForestRegressor(warm_start=True)),\n",
       "                            ('LinearSVR26', LinearSVR()),\n",
       "                            ('LarsCV27', LarsCV()),\n",
       "                            ('KNeighborsRegressor28',\n",
       "                             KNeighborsRegressor(n_neighbors=10,\n",
       "                                                 weights='distance')),\n",
       "                            ('KNeighborsRegressor29',\n",
       "                             KNeighborsRegressor(n_neighbors=11,\n",
       "                                                 weights='distance')), ...])"
      ]
     },
     "execution_count": 22,
     "metadata": {},
     "output_type": "execute_result"
    }
   ],
   "source": [
    "Vstack = VotingRegressor(Stack_estimators)\n",
    "Vstack.fit(train_X, y)"
   ]
  },
  {
   "cell_type": "code",
   "execution_count": 23,
   "metadata": {},
   "outputs": [],
   "source": [
    "# stack_parameters = {\n",
    "#     'final_estimator': [\n",
    "#     linear_model.RidgeCV(), \n",
    "#     linear_model.LassoCV(), \n",
    "#     linear_model.LarsCV(), \n",
    "#     linear_model.LassoLarsCV(), \n",
    "#     linear_model.ElasticNetCV()\n",
    "#     ] \n",
    "# }\n",
    "# gscv = GridSearchCV(StackingRegressor(Stack_estimators), stack_parameters, scoring=evaluation, cv= 3)"
   ]
  },
  {
   "cell_type": "code",
   "execution_count": 24,
   "metadata": {},
   "outputs": [],
   "source": [
    "# gscv.fit(train_X, y)\n",
    "# score = pd.DataFrame(gscv.cv_results_).sort_values('rank_test_score')\n",
    "# score[['rank_test_score', 'params', 'mean_test_score', 'std_test_score']].head()"
   ]
  },
  {
   "cell_type": "markdown",
   "metadata": {},
   "source": [
    "## Own Stack Regressor\n",
    "https://scikit-learn.org/stable/modules/generated/sklearn.feature_selection.RFECV.html"
   ]
  },
  {
   "cell_type": "code",
   "execution_count": 25,
   "metadata": {},
   "outputs": [],
   "source": [
    "TrainedMLA  = list(Stack_estimators)\n",
    "for n, alg in TrainedMLA:\n",
    "    alg.fit(train_X, y)"
   ]
  },
  {
   "cell_type": "code",
   "execution_count": 26,
   "metadata": {},
   "outputs": [],
   "source": [
    "lscaler = None\n",
    "def level1(X):\n",
    "    global lscaler\n",
    "    L1 = pd.DataFrame({'temp':X.index})\n",
    "    for name, alg in TrainedMLA:\n",
    "        L1[name] = alg.predict(X)\n",
    "\n",
    "    L1 = L1.drop(columns = ['temp'])\n",
    "    if lscaler == None:\n",
    "        lscaler = StandardScaler().fit(L1)\n",
    "    L1 = lscaler.transform(L1)\n",
    "    return L1\n",
    "L1 = level1(train_X)"
   ]
  },
  {
   "cell_type": "code",
   "execution_count": 27,
   "metadata": {},
   "outputs": [],
   "source": [
    "FLSstack = RFECV(RidgeCV(), \n",
    "                 scoring = evaluation)"
   ]
  },
  {
   "cell_type": "code",
   "execution_count": 28,
   "metadata": {},
   "outputs": [],
   "source": [
    "# FLSstack.fit(L1, y)\n",
    "# print ('RFECV num Features:',FLSstack.n_features_, \n",
    "#        '\\nRidgeCV mean rmse:', FLSstack.grid_scores_.mean())"
   ]
  },
  {
   "cell_type": "code",
   "execution_count": 29,
   "metadata": {},
   "outputs": [],
   "source": [
    "# imp_models = Score.models.head(32)[FLSstack.support_].tolist()\n",
    "# Stack_estimators = [\n",
    "#     (a.__class__.__name__ + str(i), a) for i, a in enumerate(MLA)\n",
    "# ]"
   ]
  },
  {
   "cell_type": "code",
   "execution_count": 30,
   "metadata": {},
   "outputs": [],
   "source": [
    "# Meta_models = [\n",
    "#     linear_model.RidgeCV(), \n",
    "#     linear_model.LassoCV(), \n",
    "#     linear_model.LarsCV(), \n",
    "#     linear_model.LassoLarsCV(), \n",
    "#     linear_model.ElasticNetCV()\n",
    "# ]\n",
    "# Stacker = [StackingRegressor(Stack_estimators, final_estimator=mm) for mm in Meta_models]"
   ]
  },
  {
   "cell_type": "code",
   "execution_count": 31,
   "metadata": {},
   "outputs": [],
   "source": [
    "# Stack_score = CVscoreDF(Stacker, train_X, y)\n",
    "# Stack_score"
   ]
  },
  {
   "cell_type": "markdown",
   "metadata": {},
   "source": [
    "### If still unsatisfied:\n",
    "https://mlens.readthedocs.io/en/0.1.x/source/mlens.ensemble/"
   ]
  },
  {
   "cell_type": "markdown",
   "metadata": {},
   "source": [
    "### Choose your Classifier and Predict on the test data set"
   ]
  },
  {
   "cell_type": "code",
   "execution_count": 32,
   "metadata": {},
   "outputs": [
    {
     "data": {
      "text/plain": [
       "GradientBoostingRegressor(loss='huber', n_estimators=300, warm_start=True)"
      ]
     },
     "execution_count": 32,
     "metadata": {},
     "output_type": "execute_result"
    }
   ],
   "source": [
    "single_Regressor = Score.models.iloc[0]\n",
    "single_Regressor.fit(train_X, y)"
   ]
  },
  {
   "cell_type": "code",
   "execution_count": 33,
   "metadata": {},
   "outputs": [],
   "source": [
    "# stack_Regressor = Stack_score.models.iloc[0]\n",
    "# stack_Regressor.fit(train_X, y)"
   ]
  },
  {
   "cell_type": "code",
   "execution_count": 34,
   "metadata": {},
   "outputs": [],
   "source": [
    "predictions_single = single_Regressor.predict(test_X)\n",
    "predictions_stack = LSstack.predict(test_X)\n",
    "predictions_vstack = Vstack.predict(test_X)\n",
    "# predictions_flsstack = FLSstack.predict(level1(test_X))\n",
    "# predictions_rfestack = RFEstack.predict(test_X)"
   ]
  },
  {
   "cell_type": "code",
   "execution_count": 35,
   "metadata": {},
   "outputs": [],
   "source": [
    "# print ('Single:', sklearn.metrics.mean_squared_error(v, predictions_single))\n",
    "# print ('Stack:', sklearn.metrics.mean_squared_error(v, predictions_stack))\n",
    "# print ('Voting Stack:', sklearn.metrics.mean_squared_error(v, predictions_vstack))\n",
    "# print ('Own stack:', sklearn.metrics.mean_squared_error(v, predictions_flsstack))\n",
    "# print ('RFE stack:', sklearn.metrics.mean_squared_error(v, predictions_rfestack))"
   ]
  },
  {
   "cell_type": "code",
   "execution_count": 36,
   "metadata": {},
   "outputs": [
    {
     "data": {
      "text/html": [
       "<div>\n",
       "<style scoped>\n",
       "    .dataframe tbody tr th:only-of-type {\n",
       "        vertical-align: middle;\n",
       "    }\n",
       "\n",
       "    .dataframe tbody tr th {\n",
       "        vertical-align: top;\n",
       "    }\n",
       "\n",
       "    .dataframe thead th {\n",
       "        text-align: right;\n",
       "    }\n",
       "</style>\n",
       "<table border=\"1\" class=\"dataframe\">\n",
       "  <thead>\n",
       "    <tr style=\"text-align: right;\">\n",
       "      <th></th>\n",
       "      <th>Id</th>\n",
       "      <th>SalePrice</th>\n",
       "    </tr>\n",
       "  </thead>\n",
       "  <tbody>\n",
       "    <tr>\n",
       "      <th>0</th>\n",
       "      <td>1461</td>\n",
       "      <td>122891.446303</td>\n",
       "    </tr>\n",
       "    <tr>\n",
       "      <th>1</th>\n",
       "      <td>1462</td>\n",
       "      <td>155995.652680</td>\n",
       "    </tr>\n",
       "    <tr>\n",
       "      <th>2</th>\n",
       "      <td>1463</td>\n",
       "      <td>185060.131664</td>\n",
       "    </tr>\n",
       "    <tr>\n",
       "      <th>3</th>\n",
       "      <td>1464</td>\n",
       "      <td>192047.789009</td>\n",
       "    </tr>\n",
       "    <tr>\n",
       "      <th>4</th>\n",
       "      <td>1465</td>\n",
       "      <td>188413.860009</td>\n",
       "    </tr>\n",
       "  </tbody>\n",
       "</table>\n",
       "</div>"
      ],
      "text/plain": [
       "     Id      SalePrice\n",
       "0  1461  122891.446303\n",
       "1  1462  155995.652680\n",
       "2  1463  185060.131664\n",
       "3  1464  192047.789009\n",
       "4  1465  188413.860009"
      ]
     },
     "execution_count": 36,
     "metadata": {},
     "output_type": "execute_result"
    }
   ],
   "source": [
    "for name, predictions in [['single', predictions_single],\n",
    "                    ['stack', predictions_stack],\n",
    "#                     ['rfestack', predictions_rfestack],\n",
    "                    ['vstack', predictions_vstack],\n",
    "#                     ['flsstack', predictions_flsstack]\n",
    "                         ]:\n",
    "    output = pd.DataFrame({'Id': raw_test_data.Id, target: np.exp(predictions)})\n",
    "    output.to_csv(f'preds\\\\{name}_6.csv', index = False)\n",
    "output.head()"
   ]
  },
  {
   "cell_type": "code",
   "execution_count": 37,
   "metadata": {},
   "outputs": [
    {
     "data": {
      "text/plain": [
       "datetime.datetime(2020, 8, 9, 2, 28, 40, 960493)"
      ]
     },
     "execution_count": 37,
     "metadata": {},
     "output_type": "execute_result"
    }
   ],
   "source": [
    "import datetime\n",
    "datetime.datetime.now()"
   ]
  },
  {
   "cell_type": "code",
   "execution_count": 38,
   "metadata": {},
   "outputs": [
    {
     "data": {
      "text/plain": [
       "0.06441673152875382"
      ]
     },
     "execution_count": 38,
     "metadata": {},
     "output_type": "execute_result"
    }
   ],
   "source": [
    "sklearn.metrics.mean_squared_error(y, single_Regressor.predict(train_X))**0.5"
   ]
  },
  {
   "cell_type": "code",
   "execution_count": 39,
   "metadata": {},
   "outputs": [
    {
     "data": {
      "text/plain": [
       "0.05806552948025807"
      ]
     },
     "execution_count": 39,
     "metadata": {},
     "output_type": "execute_result"
    }
   ],
   "source": [
    "sklearn.metrics.mean_squared_error(y, LSstack.predict(train_X))**0.5"
   ]
  },
  {
   "cell_type": "code",
   "execution_count": 40,
   "metadata": {},
   "outputs": [
    {
     "data": {
      "text/plain": [
       "0.05134643279562087"
      ]
     },
     "execution_count": 40,
     "metadata": {},
     "output_type": "execute_result"
    }
   ],
   "source": [
    "sklearn.metrics.mean_squared_error(y, Vstack.predict(train_X))**0.5"
   ]
  },
  {
   "cell_type": "code",
   "execution_count": null,
   "metadata": {},
   "outputs": [],
   "source": []
  }
 ],
 "metadata": {
  "kernelspec": {
   "display_name": "Python 3.7.4 64-bit",
   "language": "python",
   "name": "python37464bitb122d7ed60ea485982511a1bcddbd83a"
  },
  "language_info": {
   "codemirror_mode": {
    "name": "ipython",
    "version": 3
   },
   "file_extension": ".py",
   "mimetype": "text/x-python",
   "name": "python",
   "nbconvert_exporter": "python",
   "pygments_lexer": "ipython3",
   "version": "3.7.4"
  }
 },
 "nbformat": 4,
 "nbformat_minor": 2
}
